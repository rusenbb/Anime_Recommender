{
 "cells": [
  {
   "cell_type": "markdown",
   "metadata": {},
   "source": [
    "# <b>Anime Recommender System Using Hybrid Filter</b>\n",
    "<b>Muhammed Rüşen Birben 150220755</b>"
   ]
  },
  {
   "cell_type": "markdown",
   "metadata": {},
   "source": [
    "## <b>1 - Data Preparing and Understanding</b>"
   ]
  },
  {
   "cell_type": "markdown",
   "metadata": {},
   "source": [
    "### <b>1.a Preparing Anime Info Dataframes</b>"
   ]
  },
  {
   "cell_type": "markdown",
   "metadata": {},
   "source": [
    "#### Importing pandas and reading anime csv files"
   ]
  },
  {
   "cell_type": "code",
   "execution_count": 1,
   "metadata": {},
   "outputs": [],
   "source": [
    "# ALL RELATED LIBRARIES OF THIS NOTEBOOK\n",
    "# !pip install numpy\n",
    "# !pip install pandas\n",
    "# !pip install scikit-learn\n",
    "# !pip install scipy\n",
    "# !pip install matplotlib\n",
    "# !pip install seaborn\n",
    "# !pip install yake\n",
    "\n",
    "import pandas as pd\n",
    "import numpy as np\n",
    "anime_synopsis = pd.read_csv(\"data_raw/data/anime_with_synopsis.csv\")\n",
    "anime_df = pd.read_csv(\"data_raw/data/anime.csv\")"
   ]
  },
  {
   "cell_type": "markdown",
   "metadata": {},
   "source": [
    "#### Getting info for both dfs"
   ]
  },
  {
   "cell_type": "code",
   "execution_count": 2,
   "metadata": {},
   "outputs": [
    {
     "name": "stdout",
     "output_type": "stream",
     "text": [
      "<class 'pandas.core.frame.DataFrame'>\n",
      "RangeIndex: 17562 entries, 0 to 17561\n",
      "Data columns (total 19 columns):\n",
      " #   Column         Non-Null Count  Dtype \n",
      "---  ------         --------------  ----- \n",
      " 0   MAL_ID         17562 non-null  int64 \n",
      " 1   Name           17562 non-null  object\n",
      " 2   Score          17562 non-null  object\n",
      " 3   Genres         17562 non-null  object\n",
      " 4   English name   17562 non-null  object\n",
      " 5   Japanese name  17562 non-null  object\n",
      " 6   Type           17562 non-null  object\n",
      " 7   Episodes       17562 non-null  object\n",
      " 8   Aired          17562 non-null  object\n",
      " 9   Premiered      17562 non-null  object\n",
      " 10  Producers      17562 non-null  object\n",
      " 11  Licensors      17562 non-null  object\n",
      " 12  Studios        17562 non-null  object\n",
      " 13  Source         17562 non-null  object\n",
      " 14  Duration       17562 non-null  object\n",
      " 15  Rating         17562 non-null  object\n",
      " 16  Ranked         17562 non-null  object\n",
      " 17  Popularity     17562 non-null  int64 \n",
      " 18  Members        17562 non-null  int64 \n",
      "dtypes: int64(3), object(16)\n",
      "memory usage: 2.5+ MB\n"
     ]
    }
   ],
   "source": [
    "anime_df.iloc[:,0:19].info()"
   ]
  },
  {
   "cell_type": "code",
   "execution_count": 3,
   "metadata": {},
   "outputs": [
    {
     "name": "stdout",
     "output_type": "stream",
     "text": [
      "<class 'pandas.core.frame.DataFrame'>\n",
      "RangeIndex: 17562 entries, 0 to 17561\n",
      "Data columns (total 16 columns):\n",
      " #   Column         Non-Null Count  Dtype \n",
      "---  ------         --------------  ----- \n",
      " 0   Favorites      17562 non-null  int64 \n",
      " 1   Watching       17562 non-null  int64 \n",
      " 2   Completed      17562 non-null  int64 \n",
      " 3   On-Hold        17562 non-null  int64 \n",
      " 4   Dropped        17562 non-null  int64 \n",
      " 5   Plan to Watch  17562 non-null  int64 \n",
      " 6   Score-10       17562 non-null  object\n",
      " 7   Score-9        17562 non-null  object\n",
      " 8   Score-8        17562 non-null  object\n",
      " 9   Score-7        17562 non-null  object\n",
      " 10  Score-6        17562 non-null  object\n",
      " 11  Score-5        17562 non-null  object\n",
      " 12  Score-4        17562 non-null  object\n",
      " 13  Score-3        17562 non-null  object\n",
      " 14  Score-2        17562 non-null  object\n",
      " 15  Score-1        17562 non-null  object\n",
      "dtypes: int64(6), object(10)\n",
      "memory usage: 2.1+ MB\n"
     ]
    }
   ],
   "source": [
    "anime_df.iloc[:,19:].info()"
   ]
  },
  {
   "cell_type": "code",
   "execution_count": 4,
   "metadata": {},
   "outputs": [
    {
     "name": "stdout",
     "output_type": "stream",
     "text": [
      "<class 'pandas.core.frame.DataFrame'>\n",
      "RangeIndex: 16214 entries, 0 to 16213\n",
      "Data columns (total 5 columns):\n",
      " #   Column     Non-Null Count  Dtype \n",
      "---  ------     --------------  ----- \n",
      " 0   MAL_ID     16214 non-null  int64 \n",
      " 1   Name       16214 non-null  object\n",
      " 2   Score      16214 non-null  object\n",
      " 3   Genres     16214 non-null  object\n",
      " 4   sypnopsis  16206 non-null  object\n",
      "dtypes: int64(1), object(4)\n",
      "memory usage: 633.5+ KB\n"
     ]
    }
   ],
   "source": [
    "anime_synopsis.info()"
   ]
  },
  {
   "cell_type": "markdown",
   "metadata": {},
   "source": [
    "#### Dropping duplicates for both"
   ]
  },
  {
   "cell_type": "code",
   "execution_count": 5,
   "metadata": {},
   "outputs": [
    {
     "name": "stdout",
     "output_type": "stream",
     "text": [
      "Before anime 17562\n",
      "After anime 17562\n",
      "Before anime_synopsis 16214\n",
      "After anime_synopsis 16214\n"
     ]
    }
   ],
   "source": [
    "before = len(anime_df.index)\n",
    "anime_df.drop_duplicates(inplace=True)\n",
    "after = len(anime_df.index)\n",
    "print(f\"Before anime {before}\\nAfter anime {after}\")\n",
    "\n",
    "before = len(anime_synopsis.index)\n",
    "anime_synopsis.drop_duplicates(inplace=True)\n",
    "after = len(anime_synopsis.index)\n",
    "print(f\"Before anime_synopsis {before}\\nAfter anime_synopsis {after}\")\n",
    "del after, before"
   ]
  },
  {
   "cell_type": "markdown",
   "metadata": {},
   "source": [
    "#### Renaming columns of dfs"
   ]
  },
  {
   "cell_type": "code",
   "execution_count": 6,
   "metadata": {},
   "outputs": [
    {
     "name": "stdout",
     "output_type": "stream",
     "text": [
      "Index(['MAL_ID', 'Name', 'Score', 'Genres', 'English name', 'Japanese name',\n",
      "       'Type', 'Episodes', 'Aired', 'Premiered', 'Producers', 'Licensors',\n",
      "       'Studios', 'Source', 'Duration', 'Rating', 'Ranked', 'Popularity',\n",
      "       'Members', 'Favorites', 'Watching', 'Completed', 'On-Hold', 'Dropped',\n",
      "       'Plan to Watch', 'Score-10', 'Score-9', 'Score-8', 'Score-7', 'Score-6',\n",
      "       'Score-5', 'Score-4', 'Score-3', 'Score-2', 'Score-1'],\n",
      "      dtype='object')\n",
      "Feature num:  35\n",
      "Index(['anime_id', 'name', 'score', 'genres', 'english_name', 'japanese_name',\n",
      "       'type', 'episodes', 'aired', 'premiered', 'producers', 'licensors',\n",
      "       'studios', 'source', 'duration', 'rating', 'ranked', 'popularity',\n",
      "       'members', 'favorites', 'watching', 'completed', 'on_hold', 'dropped',\n",
      "       'plan_to_watch', 'score_10', 'score_9', 'score_8', 'score_7', 'score_6',\n",
      "       'score_5', 'score_4', 'score_3', 'score_2', 'score_1'],\n",
      "      dtype='object')\n"
     ]
    }
   ],
   "source": [
    "print(anime_df.columns)\n",
    "print(\"Feature num: \",anime_df.shape[1])\n",
    "anime_df.rename(columns={\"English name\":\"english_name\", \"Japanese name\":\"japanese_name\",\n",
    " \"On-Hold\":\"on_hold\", \"Plan to Watch\":\"plan_to_watch\", \"MAL_ID\":\"anime_id\"}, inplace=True)\n",
    "anime_df.rename(columns={i:i.replace(\"-\",\"_\") for i in anime_df.columns}, inplace=True)\n",
    "anime_df.rename(columns={i:i.lower() for i in anime_df.columns}, inplace=True)\n",
    "print(anime_df.columns)"
   ]
  },
  {
   "cell_type": "code",
   "execution_count": 7,
   "metadata": {},
   "outputs": [
    {
     "name": "stdout",
     "output_type": "stream",
     "text": [
      "Index(['MAL_ID', 'Name', 'Score', 'Genres', 'sypnopsis'], dtype='object')\n",
      "Feature num:  5\n",
      "Index(['anime_id', 'name', 'score', 'genres', 'synopsis'], dtype='object')\n"
     ]
    }
   ],
   "source": [
    "print(anime_synopsis.columns)\n",
    "print(\"Feature num: \",anime_synopsis.shape[1])\n",
    "anime_synopsis.rename(columns={\"MAL_ID\":\"anime_id\", \"sypnopsis\":\"synopsis\"}, inplace=True)\n",
    "anime_synopsis.rename(columns={i:i.replace(\"-\",\"_\") for i in anime_synopsis.columns}, inplace=True)\n",
    "anime_synopsis.rename(columns={i:i.lower() for i in anime_synopsis.columns}, inplace=True)\n",
    "print(anime_synopsis.columns)"
   ]
  },
  {
   "cell_type": "markdown",
   "metadata": {},
   "source": [
    "#### Filter Adult Content"
   ]
  },
  {
   "cell_type": "code",
   "execution_count": 8,
   "metadata": {},
   "outputs": [],
   "source": [
    "# will use adult_anime_ids for filtering the ratings of adult animes later on\n",
    "adult_anime_ids = anime_df[anime_df['rating'] == 'Rx - Hentai']['anime_id'] # Rx-Hentai is basically P*rn* in anime style\n",
    "anime_df = anime_df[anime_df['rating'] != 'Rx - Hentai']\n",
    "anime_synopsis = anime_synopsis[anime_synopsis.index.isin(anime_df.index)]"
   ]
  },
  {
   "cell_type": "markdown",
   "metadata": {},
   "source": [
    "#### Fill 'Unknown' With np.nan or Zero for Numeric Values"
   ]
  },
  {
   "cell_type": "code",
   "execution_count": 9,
   "metadata": {},
   "outputs": [
    {
     "name": "stdout",
     "output_type": "stream",
     "text": [
      "There are  663 empty synopsis (snopsis == '') \n"
     ]
    }
   ],
   "source": [
    "# NUMERIC\n",
    "to_int = [\"episodes\",\"ranked\",\"score_10\",\"score_9\",\"score_8\",\"score_7\",\"score_6\",\"score_5\",\"score_4\",\"score_3\",\"score_2\",\"score_1\"]\n",
    "to_float = [\"score\"]\n",
    "for i in to_int:\n",
    "    anime_df[i]= anime_df[i].apply(lambda x: 0 if x == \"Unknown\" else x)\n",
    "    anime_df[i] = anime_df[i].astype(float) # \"0.0\" could not be connverted directly to 0 so first make it float, than int\n",
    "    anime_df[i] = anime_df[i].astype(int)\n",
    "\n",
    "for i in to_float:\n",
    "    anime_df[i]= anime_df[i].apply(lambda x: np.nan if x == \"Unknown\" else x)\n",
    "    anime_df[i] = anime_df[i].astype(float)\n",
    "    anime_synopsis[i]= anime_synopsis[i].apply(lambda x: np.nan if x == \"Unknown\" else x)\n",
    "    anime_synopsis[i] = anime_synopsis[i].astype(float)\n",
    "\n",
    "# STRING\n",
    "\n",
    "# For the synopsis 'No synopsis information has been added to ...' should be mapped with empty string\n",
    "# If we will later on use synopsis info these values should be cleansed\n",
    "no_syn = 'No synopsis information has been added to this title. Help improve our database by adding a synopsis here .'\n",
    "anime_synopsis.synopsis.replace(no_syn, '', inplace=True)\n",
    "anime_synopsis.synopsis.fillna('', inplace=True)\n",
    "print(\"There are \", len(anime_synopsis.synopsis[anime_synopsis.synopsis == '']), \"empty synopsis (snopsis == '') \")\n",
    "\n",
    "del i, to_float, to_int, no_syn"
   ]
  },
  {
   "cell_type": "markdown",
   "metadata": {},
   "source": [
    "#### Looking for na"
   ]
  },
  {
   "cell_type": "code",
   "execution_count": 10,
   "metadata": {},
   "outputs": [
    {
     "data": {
      "text/plain": [
       "score    5124\n",
       "dtype: int64"
      ]
     },
     "execution_count": 10,
     "metadata": {},
     "output_type": "execute_result"
    }
   ],
   "source": [
    "anime_df.isna().sum()[anime_df.isna().sum() != 0] \n",
    "# Some score are missing (won't need for content based filtering) (but will need while feature engineering)"
   ]
  },
  {
   "cell_type": "code",
   "execution_count": 11,
   "metadata": {},
   "outputs": [
    {
     "data": {
      "text/plain": [
       "score    4836\n",
       "dtype: int64"
      ]
     },
     "execution_count": 11,
     "metadata": {},
     "output_type": "execute_result"
    }
   ],
   "source": [
    "anime_synopsis.isna().sum()[anime_synopsis.isna().sum() != 0] \n",
    "# some scores are missing (won't need for content based filtering, in fact for this df we will only use the synopsis column) "
   ]
  },
  {
   "cell_type": "markdown",
   "metadata": {},
   "source": [
    "#### Saving as csv"
   ]
  },
  {
   "cell_type": "code",
   "execution_count": 12,
   "metadata": {},
   "outputs": [],
   "source": [
    "anime_df.to_csv(\"data_cleansed/anime_info.csv\", index=False)\n",
    "anime_synopsis.to_csv(\"data_cleansed/anime_synopsis.csv\", index=False)\n",
    "del anime_synopsis\n",
    "del anime_df"
   ]
  },
  {
   "cell_type": "markdown",
   "metadata": {},
   "source": [
    "### <b>1.b Preparing Ratings Dataframe</b>"
   ]
  },
  {
   "cell_type": "markdown",
   "metadata": {},
   "source": [
    "#### Reading the rating dataset & dropping the duplicates"
   ]
  },
  {
   "cell_type": "code",
   "execution_count": 13,
   "metadata": {},
   "outputs": [],
   "source": [
    "# A large dataset (takes about 1 min to load)\n",
    "# (might even give an error depending on RAM)\n",
    "rating_status_comp = pd.read_csv('data_raw/data/rating_complete.csv')\n",
    "rating_status_comp.drop_duplicates(inplace=True)"
   ]
  },
  {
   "cell_type": "markdown",
   "metadata": {},
   "source": [
    "#### Looking for info"
   ]
  },
  {
   "cell_type": "code",
   "execution_count": 14,
   "metadata": {},
   "outputs": [
    {
     "name": "stdout",
     "output_type": "stream",
     "text": [
      "<class 'pandas.core.frame.DataFrame'>\n",
      "Int64Index: 57633278 entries, 0 to 57633277\n",
      "Data columns (total 3 columns):\n",
      " #   Column    Dtype\n",
      "---  ------    -----\n",
      " 0   user_id   int64\n",
      " 1   anime_id  int64\n",
      " 2   rating    int64\n",
      "dtypes: int64(3)\n",
      "memory usage: 1.7 GB\n"
     ]
    }
   ],
   "source": [
    "rating_status_comp.info()"
   ]
  },
  {
   "cell_type": "code",
   "execution_count": 15,
   "metadata": {},
   "outputs": [
    {
     "data": {
      "text/plain": [
       "Series([], dtype: int64)"
      ]
     },
     "execution_count": 15,
     "metadata": {},
     "output_type": "execute_result"
    }
   ],
   "source": [
    "rating_status_comp.isna().sum()[rating_status_comp.isna().sum() != 0] # No feature with na in it"
   ]
  },
  {
   "cell_type": "markdown",
   "metadata": {},
   "source": [
    "#### Filtering Adult Anime Ratings"
   ]
  },
  {
   "cell_type": "code",
   "execution_count": 16,
   "metadata": {},
   "outputs": [],
   "source": [
    "rating_status_comp = rating_status_comp[~rating_status_comp['anime_id'].isin(adult_anime_ids)]\n",
    "del adult_anime_ids"
   ]
  },
  {
   "cell_type": "markdown",
   "metadata": {},
   "source": [
    "#### Saving rating files to cvs\n",
    "Warning: takes too long to save csv"
   ]
  },
  {
   "cell_type": "code",
   "execution_count": 17,
   "metadata": {},
   "outputs": [],
   "source": [
    "# this step takes a bit long too (1 min 30 sec approx.)\n",
    "rating_status_comp.to_csv(\"data_cleansed/ratings.csv\", index=False)\n",
    "del rating_status_comp"
   ]
  },
  {
   "cell_type": "markdown",
   "metadata": {},
   "source": [
    "### <b>1.c Reading watching status mapping csv</b>"
   ]
  },
  {
   "cell_type": "code",
   "execution_count": 18,
   "metadata": {},
   "outputs": [],
   "source": [
    "df = pd.read_csv(\"data_raw/data/watching_status.csv\")"
   ]
  },
  {
   "cell_type": "code",
   "execution_count": 19,
   "metadata": {
    "scrolled": true
   },
   "outputs": [
    {
     "name": "stdout",
     "output_type": "stream",
     "text": [
      "   status         description\n",
      "0       1  Currently Watching\n",
      "1       2           Completed\n",
      "2       3             On Hold\n",
      "3       4             Dropped\n",
      "4       6       Plan to Watch\n"
     ]
    }
   ],
   "source": [
    "print(df) # nothing to clear, can keep these in mind. (i won't need though)\n",
    "# not worth copying to clensed_data folder\n",
    "del df"
   ]
  },
  {
   "cell_type": "markdown",
   "metadata": {},
   "source": [
    "## Cleansed Data Summary:"
   ]
  },
  {
   "cell_type": "code",
   "execution_count": 20,
   "metadata": {},
   "outputs": [
    {
     "name": "stdout",
     "output_type": "stream",
     "text": [
      "Raw data consisted of these (excluding html folder)\n"
     ]
    },
    {
     "data": {
      "text/plain": [
       "['anime.csv',\n",
       " 'animelist.csv',\n",
       " 'anime_with_synopsis.csv',\n",
       " 'rating_complete.csv',\n",
       " 'watching_status.csv']"
      ]
     },
     "execution_count": 20,
     "metadata": {},
     "output_type": "execute_result"
    }
   ],
   "source": [
    "import os\n",
    "print(\"Raw data consisted of these (excluding html folder)\")\n",
    "os.listdir('data_raw/data/')"
   ]
  },
  {
   "cell_type": "code",
   "execution_count": 21,
   "metadata": {},
   "outputs": [
    {
     "data": {
      "text/plain": [
       "['anime_info.csv', 'anime_synopsis.csv', 'ratings.csv']"
      ]
     },
     "execution_count": 21,
     "metadata": {},
     "output_type": "execute_result"
    }
   ],
   "source": [
    "os.listdir('data_cleansed')"
   ]
  },
  {
   "cell_type": "markdown",
   "metadata": {},
   "source": [
    " - <b>anime_info.csv:</b> consist of animes' detailed information like genre, studio, airing year, ratings number for each rate degree etc.<br>\n",
    " - <b>anime_synopsis.csv:</b> consist of basic info about anime like score and genre. But most importantly it includes the synopsis of anime. (Might use synopsis with term frequency algorithm. Or i might not use it, Haven't decided yet)<br>\n",
    " - <b>ratings.csv:</b> includes all of the ratings of users that are given for animes which user actually watched compleatly. (watching_status==2)<br> Watching status is a feature that exist in animelist.csv file. I only considered the subset of animelist.csv which is saved as ratings.csv\n",
    "* NOTE: I did not use watching_status.csv and animelist.csv as i have only used rating_complete.csv that consist of ratings that are given after watching the anime completely\n",
    "(watching_status == 2)"
   ]
  },
  {
   "cell_type": "markdown",
   "metadata": {},
   "source": [
    "## <b>2 -  Data Preprocessing</b>"
   ]
  },
  {
   "cell_type": "markdown",
   "metadata": {},
   "source": [
    "### 2.a Reading Cleansed Anime and Rating CSVs, Importing Related Libraries"
   ]
  },
  {
   "cell_type": "code",
   "execution_count": 22,
   "metadata": {},
   "outputs": [],
   "source": [
    "from matplotlib import pyplot as plt\n",
    "from sklearn import preprocessing\n",
    "import seaborn as sns\n",
    "import numpy as np\n",
    "import pandas as pd\n",
    "sns.set()"
   ]
  },
  {
   "cell_type": "code",
   "execution_count": 23,
   "metadata": {},
   "outputs": [],
   "source": [
    "ratings = pd.read_csv('data_cleansed/ratings.csv')\n",
    "animes = pd.read_csv('data_cleansed/anime_info.csv')"
   ]
  },
  {
   "cell_type": "markdown",
   "metadata": {},
   "source": [
    "### 2.b Ratings: Removing Outlier Users' Ratings and Unpopular Anime's Ratings, Select Ratings and Scale"
   ]
  },
  {
   "cell_type": "markdown",
   "metadata": {},
   "source": [
    "#### Removing Outliers: filter users that give very few (or very  large) number of ratings "
   ]
  },
  {
   "cell_type": "code",
   "execution_count": 24,
   "metadata": {},
   "outputs": [
    {
     "data": {
      "image/png": "[encoded data removed]",
      "text/plain": [
       "<Figure size 432x288 with 1 Axes>"
      ]
     },
     "metadata": {},
     "output_type": "display_data"
    }
   ],
   "source": [
    "# If a user rated too many anime we consider them as outlier. They might be bots\n",
    "# Or the opposite is also true, some users are crazy enough to create fake accounts and\n",
    "# boost the anime they are fan of by giving high scores (resulting in some users giving only a few ratings). We will eliminate them. \n",
    "plt.boxplot(ratings.user_id.value_counts())\n",
    "plt.show()\n",
    "# bad"
   ]
  },
  {
   "cell_type": "code",
   "execution_count": 25,
   "metadata": {},
   "outputs": [
    {
     "name": "stdout",
     "output_type": "stream",
     "text": [
      "Before outlier removal user num: 309486\n",
      "Before outlier removal rating num: 56727080\n",
      "Before outlier removal rated anime num:    15553\n",
      "########################################################\n",
      "####################   Outlier Removal   ###############\n",
      "########################################################\n",
      "After outlier removal user num: 289535\n",
      "After outlier removal rating num: 39653886\n",
      "After outlier removal rated anime num:    13530\n"
     ]
    }
   ],
   "source": [
    "# Detecting and filtering out outlier users \n",
    "# some users have more than necessary ratings (max user has 15000 ratings. might be even\n",
    "# a bot, or a real weeb :) and some have very few reviews. we don't want to include them.\n",
    "temp_df = ratings.user_id.value_counts() # df that holds num of rating for each user\n",
    "\n",
    "IQR = temp_df.quantile(q=0.75) - temp_df.quantile(q=0.25)\n",
    "u_bound = (temp_df.quantile(q=0.75) + 1.5*IQR)\n",
    "l_bound = (temp_df.quantile(q=0.25) - 1.5*IQR)\n",
    "outlier_filter = temp_df.between(left=l_bound, right=u_bound)\n",
    "\n",
    "\n",
    "print(f\"Before outlier removal user num: {len(temp_df.index)}\")\n",
    "print(f\"Before outlier removal rating num: {len(ratings.index)}\")\n",
    "print(f\"Before outlier removal rated anime num:\\\n",
    "    {len(ratings.anime_id.value_counts().index)}\")\n",
    "print(\"########################################################\")\n",
    "print(\"####################   Outlier Removal   ###############\")\n",
    "print(\"########################################################\")\n",
    "ratings = ratings[ratings['user_id'].isin((temp_df[outlier_filter]).index)] # filtering\n",
    "\n",
    "print(f\"After outlier removal user num: {len(temp_df[outlier_filter].index)}\")\n",
    "print(f\"After outlier removal rating num: {len(ratings.index)}\")\n",
    "print(f\"After outlier removal rated anime num:\\\n",
    "    {len(ratings.anime_id.value_counts().index)}\")\n",
    "\n",
    "del temp_df, outlier_filter, IQR, u_bound, l_bound"
   ]
  },
  {
   "cell_type": "code",
   "execution_count": 26,
   "metadata": {},
   "outputs": [
    {
     "data": {
      "image/png": "[encoded data removed]",
      "text/plain": [
       "<Figure size 432x288 with 1 Axes>"
      ]
     },
     "metadata": {},
     "output_type": "display_data"
    }
   ],
   "source": [
    "plt.boxplot(ratings.user_id.value_counts())\n",
    "plt.show()\n",
    "# better"
   ]
  },
  {
   "cell_type": "markdown",
   "metadata": {},
   "source": [
    "But there are still users with one or really less number of ratings. They will not provide us any (or very very little) information."
   ]
  },
  {
   "cell_type": "markdown",
   "metadata": {},
   "source": [
    "#### Selecting ratings: make sure there aren't any user that give less ratings than the specified threashold"
   ]
  },
  {
   "cell_type": "code",
   "execution_count": 27,
   "metadata": {},
   "outputs": [
    {
     "data": {
      "image/png": "[encoded data removed]",
      "text/plain": [
       "<Figure size 432x288 with 1 Axes>"
      ]
     },
     "metadata": {},
     "output_type": "display_data"
    },
    {
     "data": {
      "text/plain": [
       "count    289535.000000\n",
       "mean        136.957142\n",
       "std         123.338623\n",
       "min           1.000000\n",
       "25%          38.000000\n",
       "50%         101.000000\n",
       "75%         203.000000\n",
       "max         527.000000\n",
       "Name: user_id, dtype: float64"
      ]
     },
     "execution_count": 27,
     "metadata": {},
     "output_type": "execute_result"
    }
   ],
   "source": [
    "plt.hist(ratings['user_id'].value_counts(),bins=50)\n",
    "plt.xticks(np.arange(0,600,30), rotation=45)\n",
    "plt.show()\n",
    "ratings['user_id'].value_counts().describe()"
   ]
  },
  {
   "cell_type": "code",
   "execution_count": 28,
   "metadata": {},
   "outputs": [],
   "source": [
    "temp_df = ratings.user_id.value_counts()\n",
    "temp_rating_filter = temp_df >= 39 # Threshold: > 0.25 percentile\n",
    "ratings = ratings[ratings['user_id'].isin((temp_df[temp_rating_filter]).index)]\n",
    "del temp_rating_filter, temp_df"
   ]
  },
  {
   "cell_type": "code",
   "execution_count": 29,
   "metadata": {},
   "outputs": [
    {
     "data": {
      "image/png": "[encoded data removed]",
      "text/plain": [
       "<Figure size 432x288 with 1 Axes>"
      ]
     },
     "metadata": {},
     "output_type": "display_data"
    },
    {
     "data": {
      "text/plain": [
       "count    217107.000000\n",
       "mean        177.348985\n",
       "std         117.137160\n",
       "min          39.000000\n",
       "25%          84.000000\n",
       "50%         144.000000\n",
       "75%         243.000000\n",
       "max         527.000000\n",
       "Name: user_id, dtype: float64"
      ]
     },
     "execution_count": 29,
     "metadata": {},
     "output_type": "execute_result"
    }
   ],
   "source": [
    "plt.hist(ratings['user_id'].value_counts(),bins=50)\n",
    "plt.xticks(np.arange(0,600,30), rotation=45)\n",
    "plt.show()\n",
    "ratings['user_id'].value_counts().describe()"
   ]
  },
  {
   "cell_type": "markdown",
   "metadata": {},
   "source": [
    "#### Selecting ratings again: this time for animes that are rated really few times"
   ]
  },
  {
   "cell_type": "code",
   "execution_count": 30,
   "metadata": {},
   "outputs": [
    {
     "data": {
      "text/plain": [
       "count     13504.000000\n",
       "mean       2851.281546\n",
       "std        8860.878280\n",
       "min           1.000000\n",
       "25%          10.000000\n",
       "50%         135.000000\n",
       "75%        1382.250000\n",
       "max      145879.000000\n",
       "Name: anime_id, dtype: float64"
      ]
     },
     "execution_count": 30,
     "metadata": {},
     "output_type": "execute_result"
    }
   ],
   "source": [
    "ratings['anime_id'].value_counts().describe()"
   ]
  },
  {
   "cell_type": "code",
   "execution_count": 31,
   "metadata": {},
   "outputs": [
    {
     "name": "stdout",
     "output_type": "stream",
     "text": [
      "Before non populer anime removal user num: 217107\n",
      "Before non populer anime removal rating num: 38503706\n",
      "Before non populer anime removal rated anime num: 13504\n",
      "\n",
      "\n",
      "After non populer anime removal user num: 217107\n",
      "After non populer anime removal rating num: 38491431\n",
      "After non populer anime removal rated anime num: 10121\n"
     ]
    }
   ],
   "source": [
    "print(f\"Before non populer anime removal user num: {len(ratings.user_id.value_counts().index)}\")\n",
    "print(f\"Before non populer anime removal rating num: {len(ratings.index)}\")\n",
    "print(f\"Before non populer anime removal rated anime num: {len(ratings.anime_id.value_counts().index)}\")\n",
    "\n",
    "temp_df = ratings['anime_id'].value_counts()\n",
    "anime_filter = temp_df.quantile(0.25, interpolation='nearest')\n",
    "temp_df = temp_df[temp_df > int(anime_filter)]\n",
    "ratings = ratings[ratings['anime_id'].isin(temp_df.index)]\n",
    "\n",
    "print(\"\\n\")\n",
    "print(f\"After non populer anime removal user num: {len(ratings.user_id.value_counts().index)}\")\n",
    "print(f\"After non populer anime removal rating num: {len(ratings.index)}\")\n",
    "print(f\"After non populer anime removal rated anime num: {len(temp_df.index)}\")\n",
    "del temp_df, anime_filter\n"
   ]
  },
  {
   "cell_type": "markdown",
   "metadata": {},
   "source": [
    "#### Scaling Ratings"
   ]
  },
  {
   "cell_type": "code",
   "execution_count": 32,
   "metadata": {},
   "outputs": [],
   "source": [
    "scaler = preprocessing.MinMaxScaler()\n",
    "ratings['rating'] = scaler.fit_transform(np.array(ratings['rating']).reshape(-1,1))\n",
    "del scaler"
   ]
  },
  {
   "cell_type": "markdown",
   "metadata": {},
   "source": [
    "### 2.c Anime Info DataFrame: Selecting Animes (Filter Out Really Unpopuler or Unloved Ones)\n",
    "By feature engineering & comparing with ratings"
   ]
  },
  {
   "cell_type": "markdown",
   "metadata": {},
   "source": [
    "#### Feature Engineering and Filtering Based on Created Features\n",
    "Trying to get two measures: How relevant anime is and how loved is it."
   ]
  },
  {
   "cell_type": "code",
   "execution_count": 33,
   "metadata": {},
   "outputs": [
    {
     "data": {
      "image/png": "[encoded data removed]",
      "text/plain": [
       "<Figure size 432x288 with 2 Axes>"
      ]
     },
     "metadata": {},
     "output_type": "display_data"
    }
   ],
   "source": [
    "sns.heatmap(animes.corr())\n",
    "plt.show()"
   ]
  },
  {
   "cell_type": "code",
   "execution_count": 34,
   "metadata": {},
   "outputs": [],
   "source": [
    "## These two features will be used in relevancy\n",
    "\n",
    "w = preprocessing.normalize([np.array(animes['watching'])])\n",
    "p = preprocessing.normalize([np.array(animes['plan_to_watch'])])\n",
    "o = preprocessing.normalize([np.array(animes['on_hold'])])\n",
    "c = preprocessing.normalize([np.array(animes['completed'])])\n",
    "d = preprocessing.normalize([np.array(animes['dropped'])]) # user changed mind and didn't watch: negative\n",
    "\n",
    "# assumed if score is na anime is not good so insert 0\n",
    "s = preprocessing.normalize([np.array(animes['score'].fillna(0))]) \n",
    "\n",
    "# popularity of 2 animes are 0, which is not valid actually (and was not mentioned by the author of the data)\n",
    "# so i have to fill these values up by manually i filled them by animes.popularity.max() + 1 as i believe if they\n",
    "# were to be popular they wouldn't have invalid values for popularity\n",
    "animes.popularity.replace(0,animes.popularity.max()+1, inplace=True)\n",
    "pp = preprocessing.normalize([1 / np.array(animes['popularity'])])\n",
    "\n",
    "m = preprocessing.normalize([np.array(animes['members'])])\n",
    "f = preprocessing.normalize([np.array(animes['favorites'])])\n",
    "\n",
    "# gave really low score: negative (h: hatred)\n",
    "h = preprocessing.normalize([np.array(animes[['score_3', 'score_2', 'score_1']].sum(axis=1))]) \n",
    "\n",
    "# How many users rated that anime: rate count\n",
    "rc = preprocessing.normalize([np.array(animes.loc[:,\"score_10\":\"score_1\"].sum(axis=1))])\n",
    "\n",
    "# How many users watched this anime (currently watching, counts more in relevancy) vr: view rate \n",
    "vr = w[0] + 0.8*p[0] + 0.6*o[0] + 0.4*c[0] + 0.4*d[0]\n",
    "vr = preprocessing.normalize([vr])\n",
    "relevancy_score = vr[0] + rc[0]\n",
    "relevancy_score = preprocessing.normalize([relevancy_score])\n",
    "animes['relevancy_score'] = relevancy_score[0]\n",
    "\n",
    "\n",
    "## This features will be used in love_score\n",
    "love_score = f[0] + 0.8*pp[0] + 0.6*m[0] + 0.4*s[0] - 0.4*d[0] - 0.8*h[0]\n",
    "love_score = preprocessing.normalize([love_score])\n",
    "animes['love_score'] = love_score[0]\n",
    "\n",
    "# dropping other unnecessary columns\n",
    "del c,w,p,o,d,s,pp,m,f,h,rc,vr,relevancy_score,love_score\n",
    "animes.drop(columns=['ranked'],inplace=True) # this is already an index based on score, corr=-1 nearly\n",
    "animes.drop(columns=['watching', 'completed', 'on_hold', 'dropped', 'plan_to_watch'],inplace=True)\n",
    "animes.drop(columns=['score_10', 'score_9', 'score_8', 'score_7', 'score_6',\n",
    "       'score_5', 'score_4', 'score_3', 'score_2', 'score_1'],inplace=True)\n",
    "animes.drop(columns=['score', 'popularity', 'members', 'favorites'],inplace=True)"
   ]
  },
  {
   "cell_type": "code",
   "execution_count": 35,
   "metadata": {},
   "outputs": [
    {
     "data": {
      "image/png": "[encoded data removed]",
      "text/plain": [
       "<Figure size 432x288 with 2 Axes>"
      ]
     },
     "metadata": {},
     "output_type": "display_data"
    }
   ],
   "source": [
    "sns.heatmap(animes.corr())\n",
    "plt.xticks(rotation=45)\n",
    "plt.show()"
   ]
  },
  {
   "cell_type": "code",
   "execution_count": 36,
   "metadata": {},
   "outputs": [
    {
     "data": {
      "text/html": [
       "<div>\n",
       "<style scoped>\n",
       "    .dataframe tbody tr th:only-of-type {\n",
       "        vertical-align: middle;\n",
       "    }\n",
       "\n",
       "    .dataframe tbody tr th {\n",
       "        vertical-align: top;\n",
       "    }\n",
       "\n",
       "    .dataframe thead th {\n",
       "        text-align: right;\n",
       "    }\n",
       "</style>\n",
       "<table border=\"1\" class=\"dataframe\">\n",
       "  <thead>\n",
       "    <tr style=\"text-align: right;\">\n",
       "      <th></th>\n",
       "      <th>anime_id</th>\n",
       "      <th>episodes</th>\n",
       "      <th>relevancy_score</th>\n",
       "      <th>love_score</th>\n",
       "    </tr>\n",
       "  </thead>\n",
       "  <tbody>\n",
       "    <tr>\n",
       "      <th>anime_id</th>\n",
       "      <td>1.000000</td>\n",
       "      <td>-0.092706</td>\n",
       "      <td>-0.053995</td>\n",
       "      <td>-0.086607</td>\n",
       "    </tr>\n",
       "    <tr>\n",
       "      <th>episodes</th>\n",
       "      <td>-0.092706</td>\n",
       "      <td>1.000000</td>\n",
       "      <td>0.066697</td>\n",
       "      <td>0.028201</td>\n",
       "    </tr>\n",
       "    <tr>\n",
       "      <th>relevancy_score</th>\n",
       "      <td>-0.053995</td>\n",
       "      <td>0.066697</td>\n",
       "      <td>1.000000</td>\n",
       "      <td>0.576724</td>\n",
       "    </tr>\n",
       "    <tr>\n",
       "      <th>love_score</th>\n",
       "      <td>-0.086607</td>\n",
       "      <td>0.028201</td>\n",
       "      <td>0.576724</td>\n",
       "      <td>1.000000</td>\n",
       "    </tr>\n",
       "  </tbody>\n",
       "</table>\n",
       "</div>"
      ],
      "text/plain": [
       "                 anime_id  episodes  relevancy_score  love_score\n",
       "anime_id         1.000000 -0.092706        -0.053995   -0.086607\n",
       "episodes        -0.092706  1.000000         0.066697    0.028201\n",
       "relevancy_score -0.053995  0.066697         1.000000    0.576724\n",
       "love_score      -0.086607  0.028201         0.576724    1.000000"
      ]
     },
     "execution_count": 36,
     "metadata": {},
     "output_type": "execute_result"
    }
   ],
   "source": [
    "animes.corr()\n",
    "# Not that bad for relevancy and love score correlation, we should've already expected\n",
    "# that these two scores would be correlated. (features we used were correlated among them)\n",
    "# High correlation would make our 'good animes to consider' filter too wide \n",
    "# low correlation would make the opposite I belive where these two\n",
    "# metrics are currently is good"
   ]
  },
  {
   "cell_type": "markdown",
   "metadata": {},
   "source": [
    "<b>Filtering Animes</b>"
   ]
  },
  {
   "cell_type": "code",
   "execution_count": 37,
   "metadata": {},
   "outputs": [
    {
     "name": "stdout",
     "output_type": "stream",
     "text": [
      "Before the filter, the number of anime is:  16217\n",
      "After the filter, the number of anime is:  13164\n"
     ]
    }
   ],
   "source": [
    "filt_1 = animes['love_score']>animes['love_score'].quantile(0.1) # filter based on love score\n",
    "filt_2 = animes['relevancy_score']>animes['relevancy_score'].quantile(0.1) # filter based on relevancy score (how alive it is)\n",
    "print(\"Before the filter, the number of anime is: \",len(animes))\n",
    "animes = animes[filt_1 & filt_2]\n",
    "print(\"After the filter, the number of anime is: \",len(animes))\n",
    "del filt_1, filt_2"
   ]
  },
  {
   "cell_type": "markdown",
   "metadata": {},
   "source": [
    "#### Removing animes that are not rated (not in the ratings df) & removing ratings of animes that are not in animes df"
   ]
  },
  {
   "cell_type": "code",
   "execution_count": 38,
   "metadata": {},
   "outputs": [
    {
     "name": "stdout",
     "output_type": "stream",
     "text": [
      "Before filtering by ratings, anime num in anime info df: 13164\n",
      "After filtering by ratings, anime num in anime info df: 9399\n",
      "\n",
      "\n",
      "Before filtering rating num: 38491431\n",
      "Before filtering user num that rated: 217107\n",
      "Before filtering anime num: 10121\n",
      "\n",
      "After filtering rating num: 32452081\n",
      "After filtering user num that rated: 217107\n",
      "After filtering anime num: 9399\n"
     ]
    }
   ],
   "source": [
    "print(f\"Before filtering by ratings, anime num in anime info df: {len(animes.index)}\")\n",
    "animes = animes[animes['anime_id'].isin(set(ratings.anime_id))]\n",
    "print(f\"After filtering by ratings, anime num in anime info df: {len(animes.index)}\\n\\n\")\n",
    "\n",
    "# only consider ratings that are in animes dataframe (for collaborative and content based filter consistency)\n",
    "# This should not effect our df too much but it is better to see how much it changes\n",
    "print(f\"Before filtering rating num: {len(ratings.index)}\")\n",
    "print(f\"Before filtering user num that rated: {len(ratings.user_id.unique())}\")\n",
    "print(f\"Before filtering anime num: {len(ratings.anime_id.unique())}\")\n",
    "ratings = ratings[ratings.anime_id.isin(animes.anime_id)]\n",
    "print(\"\")\n",
    "print(f\"After filtering rating num: {len(ratings.index)}\")\n",
    "print(f\"After filtering user num that rated: {len(ratings.user_id.unique())}\")\n",
    "print(f\"After filtering anime num: {len(ratings.anime_id.unique())}\")"
   ]
  },
  {
   "cell_type": "markdown",
   "metadata": {},
   "source": [
    "### 2.d Creating Encoding and Decoding Dictionaries For Anime and User IDs "
   ]
  },
  {
   "cell_type": "code",
   "execution_count": 39,
   "metadata": {},
   "outputs": [],
   "source": [
    "user_id_decoding = {i:x for i,x in enumerate(ratings['user_id'].unique())}\n",
    "user_id_encoding = {x:i for i,x in enumerate(ratings['user_id'].unique())}\n",
    "\n",
    "anime_id_decoding = {i:x for i,x in enumerate(ratings['anime_id'].unique())}\n",
    "anime_id_encoding = {x:i for i,x in enumerate(ratings['anime_id'].unique())}\n",
    "ratings.user_id = ratings.user_id.map(user_id_encoding)\n",
    "ratings.anime_id = ratings.anime_id.map(anime_id_encoding)\n",
    "animes.anime_id = animes.anime_id.map(anime_id_encoding)\n"
   ]
  },
  {
   "cell_type": "markdown",
   "metadata": {},
   "source": [
    "### 2.e Adding metadata feature to animes using other columns"
   ]
  },
  {
   "cell_type": "code",
   "execution_count": 40,
   "metadata": {},
   "outputs": [],
   "source": [
    "# I used YAKE (Yet Another Keyword Extraction Algorithm) for extracting info from text\n",
    "# yake is an implementation of this algorithm in python\n",
    "# !pip install yake\n",
    "import yake\n",
    "\n",
    "# Only the 'synopsis' column will be used from this df. We know that this column is in correct form\n",
    "# there is '' for no synopsis\n",
    "animes_w_synopsis = pd.read_csv('data_cleansed/anime_synopsis.csv')\n",
    "animes_w_synopsis = animes_w_synopsis[animes_w_synopsis['name'].isin(animes['name'])]\n",
    "animes_w_synopsis.anime_id = animes_w_synopsis.anime_id.map(anime_id_encoding)\n",
    "animes = pd.merge(animes, animes_w_synopsis[['anime_id','synopsis']], on=\"anime_id\", how=\"left\")\n",
    "animes.synopsis.fillna('', inplace=True) # for animes that don't correspond to animes_w_synopsis\n",
    "del animes_w_synopsis\n",
    "\n",
    "\n",
    "# initilaze empty string for all animes' meta data combined string\n",
    "animes['meta_combined'] = ''\n",
    "\n",
    "# Features and their weights\n",
    "feature_weigth = {'studios': 0.01, 'producers': 0.01, 'licensors': 0.01,\n",
    "                  'genres':0.03, 'type':0.02, 'source':0.01}\n",
    "\n",
    "\n",
    "basic_str_op_lst = ['studios', 'producers', 'licensors', 'genres', 'type', 'source']\n",
    "\n",
    "for col in basic_str_op_lst:\n",
    "    animes[col] = animes[col].str.replace(\" \",\"\")\n",
    "    animes[col] = animes[col].str.replace(\",\",\" \")\n",
    "    animes[col].replace('Unknown', '', inplace=True)\n",
    "    animes[col] = animes[col].str.lower()\n"
   ]
  },
  {
   "cell_type": "code",
   "execution_count": 41,
   "metadata": {},
   "outputs": [],
   "source": [
    "def get_meta_combined(row):\n",
    "    phrase = ''\n",
    "    for feature in basic_str_op_lst:\n",
    "        text = row[feature]\n",
    "        if text == \"\":\n",
    "            continue\n",
    "        phrase += \" \" +  \" \".join(int(feature_weigth[feature]*100)*[text])\n",
    "        \n",
    "    text = row['synopsis']\n",
    "    language = \"en\"\n",
    "    max_phrase_size = 1\n",
    "    num_of_words = 15\n",
    "    \n",
    "    y = yake.KeywordExtractor(lan=language, n=max_phrase_size, top=num_of_words, features=None)\n",
    "    \n",
    "    key_words = y.extract_keywords(text)\n",
    "    \n",
    "    for word in key_words:\n",
    "        phrase += \" \" + word[0].strip()\n",
    "        \n",
    "    return phrase.strip()\n",
    "    \n",
    "\n",
    "animes['meta_combined'] = animes.apply(get_meta_combined, axis=1)\n",
    "animes['meta_combined'] = animes['meta_combined'].str.lower()\n",
    "animes.sort_values(by='anime_id', ascending=True, inplace=True)"
   ]
  },
  {
   "cell_type": "code",
   "execution_count": 42,
   "metadata": {},
   "outputs": [],
   "source": [
    "# One might one to save these, because otherwise we'll change these elements for model building\n",
    "\n",
    "# if not os.path.exists(\"model_variables/preprocessed_datasets\"):\n",
    "#     os.mkdir(\"model_variables/preprocessed_datasets/\")\n",
    "# animes.to_csv(\"model_variables/preprocessed_datasets/animes.csv\")\n",
    "# ratings.to_csv(\"model_variables/preprocessed_datasets/ratings.csv\")"
   ]
  },
  {
   "cell_type": "markdown",
   "metadata": {},
   "source": [
    "## <b>3 - Model Building </b>"
   ]
  },
  {
   "cell_type": "markdown",
   "metadata": {},
   "source": [
    "### 3.a Creating User-Item Matrix: Collaborative Filtering\n",
    "Warning: This step also takes a bit long (approx 3 to 5 minutes)"
   ]
  },
  {
   "cell_type": "code",
   "execution_count": 43,
   "metadata": {},
   "outputs": [],
   "source": [
    "# This step takes a bit long even with threading (approx 3-5 minutes)\n",
    "import concurrent.futures\n",
    "x = len(ratings.groupby('user_id'))\n",
    "y = len(ratings.groupby('anime_id'))\n",
    "\n",
    "\n",
    "# our ratings now is only a numpy array (for efficiency purpouses)\n",
    "ratings = np.array(ratings)\n",
    "\n",
    "\n",
    "user_item_matrix = np.empty((x, y)) # init empty matrix\n",
    "user_item_matrix.fill(np.nan)\n",
    "\n",
    "def create_user_item_matrix(anime):\n",
    "    \"\"\"\n",
    "    For inputted anime this function calculates and assigns to (user-item)\n",
    "    the ratings of users that rated\n",
    "    \"\"\"\n",
    "    global user_item_matrix\n",
    "    users = np.arange(0,x) # represents users (since ids are mapped to 0-x)\n",
    "    anime_rating_v = ratings[ratings[:,1] == anime] # ratings vector that include that particular anime id (given in the func param)\n",
    "    # assign users (which gave that rating) rating in the matrix to that rating \n",
    "    user_item_matrix[np.isin(users, anime_rating_v[:,0]), anime] = anime_rating_v[:,2] \n",
    "\n",
    "with concurrent.futures.ThreadPoolExecutor() as executer:\n",
    "    for anime in np.unique(ratings[:,1]).astype(int): # For unique anime ids in the ratings df\n",
    "        executer.submit(create_user_item_matrix, anime) # submit that execution of func with the param\n",
    "\n",
    "np.save('model_variables/user_item_matrix.npy',user_item_matrix)\n",
    "# IMPORTANT: we are getting rid of 'ratings' since we now have user-item matrix\n",
    "# we also removed user-item matrix as we've saved it into our hard disc\n",
    "del ratings, x, y, user_item_matrix, anime, executer"
   ]
  },
  {
   "cell_type": "markdown",
   "metadata": {},
   "source": [
    "### 3.b Creating Anime-Similarity Matrix From Anime Meta Data: Content Based Filtering"
   ]
  },
  {
   "cell_type": "code",
   "execution_count": 44,
   "metadata": {},
   "outputs": [],
   "source": [
    "from sklearn.metrics.pairwise import cosine_similarity\n",
    "from sklearn.feature_extraction.text import CountVectorizer\n",
    "count_term = CountVectorizer()\n",
    "\n",
    "count_matrix = count_term.fit_transform(animes['meta_combined'])\n",
    "cosine_sim = cosine_similarity(count_matrix, count_matrix)\n",
    "np.save('model_variables/anime_similarity_matrix.npy',cosine_sim)\n",
    "del cosine_sim, count_matrix, count_term, animes"
   ]
  },
  {
   "cell_type": "markdown",
   "metadata": {},
   "source": [
    "## <b>4 - Building Hybrid Filter / Define Recommendation Functions</b>"
   ]
  },
  {
   "cell_type": "markdown",
   "metadata": {},
   "source": [
    "### 4.a Defining Functions For Content Based Filtering"
   ]
  },
  {
   "cell_type": "code",
   "execution_count": 18,
   "metadata": {},
   "outputs": [],
   "source": [
    "def get_meta(name: str):\n",
    "    import pandas as pd\n",
    "    if 'animes' not in locals().keys():\n",
    "        animes = pd.read_csv(\"model_variables/preprocessed_datasets/animes.csv\")\n",
    "    else:\n",
    "        animes = locals()['animes']\n",
    "\n",
    "    a = animes[animes['name'].str.lower() == name.lower()]\n",
    "    if len(a.index)!= 0:\n",
    "            a = a.iloc[0]\n",
    "    else:\n",
    "        try:\n",
    "            a = animes[animes.name.str.lower().str.contains(name.lower(),\n",
    "             regex=False)].iloc[0]\n",
    "        except IndexError:\n",
    "            print('anime not found')\n",
    "            return -1\n",
    "    \n",
    "    return (a['name'], a['meta_combined'])\n",
    "\n",
    "def get_synopsis(name: str):\n",
    "    import pandas as pd\n",
    "    if 'animes' not in locals().keys():\n",
    "        animes = pd.read_csv(\"model_variables/preprocessed_datasets/animes.csv\")\n",
    "    else:\n",
    "        animes = locals()['animes']\n",
    "\n",
    "    a = animes[animes['name'].str.lower() == name.lower()]\n",
    "    if len(a.index)!= 0:\n",
    "            a = a.iloc[0]\n",
    "    else:\n",
    "        try:\n",
    "            a = animes[animes.name.str.lower().str.contains(name.lower(),\n",
    "             regex=False)].iloc[0]\n",
    "        except IndexError:\n",
    "            print('anime not found')\n",
    "            return -1\n",
    "    \n",
    "    return (a['name'], a['synopsis'])\n",
    "\n",
    "def get_recommendations_content_based(name: str):\n",
    "    import numpy as np\n",
    "    import pandas as pd\n",
    "    if 'animes' not in locals().keys():\n",
    "        animes = pd.read_csv(\"model_variables/preprocessed_datasets/animes.csv\")\n",
    "    else:\n",
    "        animes = locals()['animes']\n",
    "    \n",
    "    if 'cosine_sim' not in locals().keys():\n",
    "        cosine_sim = np.load(\"model_variables/anime_similarity_matrix.npy\")\n",
    "\n",
    "    else:\n",
    "        cosine_sim = locals()['cosine_sim']\n",
    "    import pandas as pd\n",
    "\n",
    "    a = animes[animes['name'].str.lower() == name.lower()]\n",
    "    if len(a.index)!= 0:\n",
    "            a = a.iloc[0]\n",
    "    else:\n",
    "        try:\n",
    "            a = animes[animes.name.str.lower().str.contains(name.lower(),\n",
    "             regex=False)].iloc[0]\n",
    "        except IndexError:\n",
    "            print('anime not found')\n",
    "            return -1\n",
    "    \n",
    "    print(f\"recommendations for {a['name']}:\")\n",
    "    print(\"\\n\\n\")\n",
    "    id_encoded = a.anime_id\n",
    "    similarities_vector = cosine_sim[id_encoded]\n",
    "    ind = np.argpartition(similarities_vector, -11)[-11:]\n",
    "    for enc_anm_id in np.flip(ind[np.argsort(similarities_vector[ind])])[1:]:\n",
    "        err  = round(1-similarities_vector[enc_anm_id],3)\n",
    "        print(animes.name[animes.anime_id == enc_anm_id].iloc[0],\"-->\", \"with an error of\", err)\n",
    "    \n",
    "    return 0\n",
    "    "
   ]
  },
  {
   "cell_type": "markdown",
   "metadata": {},
   "source": [
    "## <b>5 - Main Program</b>"
   ]
  },
  {
   "cell_type": "code",
   "execution_count": 19,
   "metadata": {},
   "outputs": [
    {
     "name": "stdout",
     "output_type": "stream",
     "text": [
      "recommendations for Kamiusagi Rope x Boruto: Naruto Next Generations:\n",
      "\n",
      "\n",
      "\n",
      "Aratanari Fukaki Ao --> with an error of 0.313\n",
      "Nu Wushen de Canzhuo II --> with an error of 0.351\n",
      "Qing Chi Hong Xiaodou Ba! --> with an error of 0.383\n",
      "Catman Series II --> with an error of 0.393\n",
      "Jie Yao --> with an error of 0.402\n",
      "Turning Girls --> with an error of 0.402\n",
      "World Fool News --> with an error of 0.405\n",
      "Jintian Kaishi Zuo Mingxing --> with an error of 0.411\n",
      "Han Hua Ri Ji --> with an error of 0.411\n",
      "The iDOLM@STER Million Live! 4th Anniversary PV --> with an error of 0.411\n"
     ]
    },
    {
     "data": {
      "text/plain": [
       "0"
      ]
     },
     "execution_count": 19,
     "metadata": {},
     "output_type": "execute_result"
    }
   ],
   "source": [
    "get_recommendations_content_based(\"Boruto: Naruto Next Generations\")\n"
   ]
  },
  {
   "cell_type": "code",
   "execution_count": 20,
   "metadata": {},
   "outputs": [
    {
     "data": {
      "text/plain": [
       "('Kamiusagi Rope x Boruto: Naruto Next Generations',\n",
       " '3-way collaboration between Kamiusagi Rope , Boruto: Naruto Next Generations , and TOHO Cinemas. The purpose is to promote a new TOHO theater opening up in Ueno on November 4, 2017. The collaboration video will also be available to view in TOHO Cinemas in Tokyo, Kanagawa, Chiba, and Saitama from Ocotober 21 - December 1.')"
      ]
     },
     "execution_count": 20,
     "metadata": {},
     "output_type": "execute_result"
    }
   ],
   "source": [
    "get_synopsis(\"Kamiusagi Rope x Boruto: Naruto Next Generations\")"
   ]
  },
  {
   "cell_type": "code",
   "execution_count": 59,
   "metadata": {},
   "outputs": [
    {
     "data": {
      "text/plain": [
       "('Duel Masters VS',\n",
       " 'ascension action adventure comedy shounen action adventure comedy shounen action adventure comedy shounen tv tv original')"
      ]
     },
     "execution_count": 59,
     "metadata": {},
     "output_type": "execute_result"
    }
   ],
   "source": [
    "get_meta(\"Duel Masters VS\")\n"
   ]
  },
  {
   "cell_type": "code",
   "execution_count": 11,
   "metadata": {},
   "outputs": [
    {
     "data": {
      "text/plain": [
       "('Jujutsu Kaisen',\n",
       " 'yokohamaanimationlab shounen shounen shounen ona ona manga fiendish spirits invisible normal humans fiendish spirits spirits invisible invisible to normal jujutsu high school tokyo jujutsu high sukuna ryoumen jujutsu yuuji itadori tokyo jujutsu jujutsu high strongest jujutsu sorcerer satoru gojou curses')"
      ]
     },
     "execution_count": 11,
     "metadata": {},
     "output_type": "execute_result"
    }
   ],
   "source": [
    "get_meta(\"jujutsu\")"
   ]
  },
  {
   "cell_type": "code",
   "execution_count": null,
   "metadata": {},
   "outputs": [],
   "source": []
  }
 ],
 "metadata": {
  "kernelspec": {
   "display_name": "Python 3 (ipykernel)",
   "language": "python",
   "name": "python3"
  },
  "language_info": {
   "codemirror_mode": {
    "name": "ipython",
    "version": 3
   },
   "file_extension": ".py",
   "mimetype": "text/x-python",
   "name": "python",
   "nbconvert_exporter": "python",
   "pygments_lexer": "ipython3",
   "version": "3.10.0"
  },
  "vscode": {
   "interpreter": {
    "hash": "962108172c7d37cc7f406e874d70700554b701f9d4fddde2ee9c82cee43c72c9"
   }
  }
 },
 "nbformat": 4,
 "nbformat_minor": 2
}
