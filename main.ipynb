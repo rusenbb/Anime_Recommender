{
 "cells": [
  {
   "cell_type": "markdown",
   "metadata": {},
   "source": [
    "# <b>Anime Recommender System Using Hybrid Filter</b>\n",
    "<b>Muhammed Rüşen Birben 150220755</b>"
   ]
  },
  {
   "cell_type": "markdown",
   "metadata": {},
   "source": [
    "## <b>1 - Data Preparing and Understanding</b>"
   ]
  },
  {
   "cell_type": "markdown",
   "metadata": {},
   "source": [
    "### <b>1.a Preparing Anime Info Dataframes</b>"
   ]
  },
  {
   "cell_type": "markdown",
   "metadata": {},
   "source": [
    "#### Importing pandas and reading anime csv files"
   ]
  },
  {
   "cell_type": "code",
   "execution_count": 1,
   "metadata": {},
   "outputs": [],
   "source": [
    "# ALL RELATED EXTERNAL LIBRARIES FOR THIS NOTEBOOK\n",
    "# !pip install numpy\n",
    "# !pip install pandas\n",
    "# !pip install scikit-learn\n",
    "# !pip install scipy\n",
    "# !pip install matplotlib\n",
    "# !pip install seaborn\n",
    "# !pip install yake\n",
    "# !pip install surprise\n",
    "# !pip install tqdm\n",
    "\n",
    "import pandas as pd\n",
    "import numpy as np\n",
    "from pathlib import Path\n",
    "\n",
    "anime_synopsis = pd.read_csv(\"data_raw/data/anime_with_synopsis.csv\")\n",
    "anime_df = pd.read_csv(\"data_raw/data/anime.csv\")"
   ]
  },
  {
   "cell_type": "markdown",
   "metadata": {},
   "source": [
    "#### Getting info for both dfs"
   ]
  },
  {
   "cell_type": "code",
   "execution_count": 2,
   "metadata": {},
   "outputs": [
    {
     "name": "stdout",
     "output_type": "stream",
     "text": [
      "<class 'pandas.core.frame.DataFrame'>\n",
      "RangeIndex: 17562 entries, 0 to 17561\n",
      "Data columns (total 19 columns):\n",
      " #   Column         Non-Null Count  Dtype \n",
      "---  ------         --------------  ----- \n",
      " 0   MAL_ID         17562 non-null  int64 \n",
      " 1   Name           17562 non-null  object\n",
      " 2   Score          17562 non-null  object\n",
      " 3   Genres         17562 non-null  object\n",
      " 4   English name   17562 non-null  object\n",
      " 5   Japanese name  17562 non-null  object\n",
      " 6   Type           17562 non-null  object\n",
      " 7   Episodes       17562 non-null  object\n",
      " 8   Aired          17562 non-null  object\n",
      " 9   Premiered      17562 non-null  object\n",
      " 10  Producers      17562 non-null  object\n",
      " 11  Licensors      17562 non-null  object\n",
      " 12  Studios        17562 non-null  object\n",
      " 13  Source         17562 non-null  object\n",
      " 14  Duration       17562 non-null  object\n",
      " 15  Rating         17562 non-null  object\n",
      " 16  Ranked         17562 non-null  object\n",
      " 17  Popularity     17562 non-null  int64 \n",
      " 18  Members        17562 non-null  int64 \n",
      "dtypes: int64(3), object(16)\n",
      "memory usage: 2.5+ MB\n"
     ]
    }
   ],
   "source": [
    "anime_df.iloc[:,0:19].info()"
   ]
  },
  {
   "cell_type": "code",
   "execution_count": 3,
   "metadata": {},
   "outputs": [
    {
     "name": "stdout",
     "output_type": "stream",
     "text": [
      "<class 'pandas.core.frame.DataFrame'>\n",
      "RangeIndex: 17562 entries, 0 to 17561\n",
      "Data columns (total 16 columns):\n",
      " #   Column         Non-Null Count  Dtype \n",
      "---  ------         --------------  ----- \n",
      " 0   Favorites      17562 non-null  int64 \n",
      " 1   Watching       17562 non-null  int64 \n",
      " 2   Completed      17562 non-null  int64 \n",
      " 3   On-Hold        17562 non-null  int64 \n",
      " 4   Dropped        17562 non-null  int64 \n",
      " 5   Plan to Watch  17562 non-null  int64 \n",
      " 6   Score-10       17562 non-null  object\n",
      " 7   Score-9        17562 non-null  object\n",
      " 8   Score-8        17562 non-null  object\n",
      " 9   Score-7        17562 non-null  object\n",
      " 10  Score-6        17562 non-null  object\n",
      " 11  Score-5        17562 non-null  object\n",
      " 12  Score-4        17562 non-null  object\n",
      " 13  Score-3        17562 non-null  object\n",
      " 14  Score-2        17562 non-null  object\n",
      " 15  Score-1        17562 non-null  object\n",
      "dtypes: int64(6), object(10)\n",
      "memory usage: 2.1+ MB\n"
     ]
    }
   ],
   "source": [
    "anime_df.iloc[:,19:].info()"
   ]
  },
  {
   "cell_type": "code",
   "execution_count": 4,
   "metadata": {},
   "outputs": [
    {
     "name": "stdout",
     "output_type": "stream",
     "text": [
      "<class 'pandas.core.frame.DataFrame'>\n",
      "RangeIndex: 16214 entries, 0 to 16213\n",
      "Data columns (total 5 columns):\n",
      " #   Column     Non-Null Count  Dtype \n",
      "---  ------     --------------  ----- \n",
      " 0   MAL_ID     16214 non-null  int64 \n",
      " 1   Name       16214 non-null  object\n",
      " 2   Score      16214 non-null  object\n",
      " 3   Genres     16214 non-null  object\n",
      " 4   sypnopsis  16206 non-null  object\n",
      "dtypes: int64(1), object(4)\n",
      "memory usage: 633.5+ KB\n"
     ]
    }
   ],
   "source": [
    "anime_synopsis.info()"
   ]
  },
  {
   "cell_type": "markdown",
   "metadata": {},
   "source": [
    "#### Dropping duplicates for both"
   ]
  },
  {
   "cell_type": "code",
   "execution_count": 5,
   "metadata": {},
   "outputs": [
    {
     "name": "stdout",
     "output_type": "stream",
     "text": [
      "Before anime 17,562\n",
      "After anime 17,562\n",
      "Before anime_synopsis 16,214\n",
      "After anime_synopsis 16,214\n"
     ]
    }
   ],
   "source": [
    "before = len(anime_df.index)\n",
    "anime_df.drop_duplicates(inplace=True)\n",
    "after = len(anime_df.index)\n",
    "print(f\"Before anime {before:,}\\nAfter anime {after:,}\")\n",
    "\n",
    "before = len(anime_synopsis.index)\n",
    "anime_synopsis.drop_duplicates(inplace=True)\n",
    "after = len(anime_synopsis.index)\n",
    "print(f\"Before anime_synopsis {before:,}\\nAfter anime_synopsis {after:,}\")\n",
    "del after, before"
   ]
  },
  {
   "cell_type": "markdown",
   "metadata": {},
   "source": [
    "#### Renaming columns of dfs"
   ]
  },
  {
   "cell_type": "code",
   "execution_count": 6,
   "metadata": {},
   "outputs": [
    {
     "name": "stdout",
     "output_type": "stream",
     "text": [
      "Index(['MAL_ID', 'Name', 'Score', 'Genres', 'English name', 'Japanese name',\n",
      "       'Type', 'Episodes', 'Aired', 'Premiered', 'Producers', 'Licensors',\n",
      "       'Studios', 'Source', 'Duration', 'Rating', 'Ranked', 'Popularity',\n",
      "       'Members', 'Favorites', 'Watching', 'Completed', 'On-Hold', 'Dropped',\n",
      "       'Plan to Watch', 'Score-10', 'Score-9', 'Score-8', 'Score-7', 'Score-6',\n",
      "       'Score-5', 'Score-4', 'Score-3', 'Score-2', 'Score-1'],\n",
      "      dtype='object')\n",
      "Feature num:  35\n",
      "Index(['anime_id', 'name', 'score', 'genres', 'english_name', 'japanese_name',\n",
      "       'type', 'episodes', 'aired', 'premiered', 'producers', 'licensors',\n",
      "       'studios', 'source', 'duration', 'rating', 'ranked', 'popularity',\n",
      "       'members', 'favorites', 'watching', 'completed', 'on_hold', 'dropped',\n",
      "       'plan_to_watch', 'score_10', 'score_9', 'score_8', 'score_7', 'score_6',\n",
      "       'score_5', 'score_4', 'score_3', 'score_2', 'score_1'],\n",
      "      dtype='object')\n"
     ]
    }
   ],
   "source": [
    "print(anime_df.columns)\n",
    "print(\"Feature num: \",anime_df.shape[1])\n",
    "anime_df.rename(columns={\"English name\":\"english_name\", \"Japanese name\":\"japanese_name\",\n",
    " \"On-Hold\":\"on_hold\", \"Plan to Watch\":\"plan_to_watch\", \"MAL_ID\":\"anime_id\"}, inplace=True)\n",
    "anime_df.rename(columns={i:i.replace(\"-\",\"_\") for i in anime_df.columns}, inplace=True)\n",
    "anime_df.rename(columns={i:i.lower() for i in anime_df.columns}, inplace=True)\n",
    "print(anime_df.columns)"
   ]
  },
  {
   "cell_type": "code",
   "execution_count": 7,
   "metadata": {},
   "outputs": [
    {
     "name": "stdout",
     "output_type": "stream",
     "text": [
      "Index(['MAL_ID', 'Name', 'Score', 'Genres', 'sypnopsis'], dtype='object')\n",
      "Feature num:  5\n",
      "Index(['anime_id', 'name', 'score', 'genres', 'synopsis'], dtype='object')\n"
     ]
    }
   ],
   "source": [
    "print(anime_synopsis.columns)\n",
    "print(\"Feature num: \",anime_synopsis.shape[1])\n",
    "anime_synopsis.rename(columns={\"MAL_ID\":\"anime_id\", \"sypnopsis\":\"synopsis\"}, inplace=True)\n",
    "anime_synopsis.rename(columns={i:i.replace(\"-\",\"_\") for i in anime_synopsis.columns}, inplace=True)\n",
    "anime_synopsis.rename(columns={i:i.lower() for i in anime_synopsis.columns}, inplace=True)\n",
    "print(anime_synopsis.columns)"
   ]
  },
  {
   "cell_type": "markdown",
   "metadata": {},
   "source": [
    "#### Filter Adult Content"
   ]
  },
  {
   "cell_type": "code",
   "execution_count": 8,
   "metadata": {},
   "outputs": [
    {
     "name": "stdout",
     "output_type": "stream",
     "text": [
      "There were 1,345 adult animes. They are filtered.\n"
     ]
    }
   ],
   "source": [
    "# will use adult_anime_ids for filtering the ratings of adult animes later on\n",
    "adult_anime_ids = anime_df[anime_df['rating'] == 'Rx - Hentai']['anime_id'] # Rx-Hentai is basically P*rn* in anime style\n",
    "print(f\"There were {len(adult_anime_ids):,} adult animes. They are filtered.\")\n",
    "anime_df = anime_df[anime_df['rating'] != 'Rx - Hentai']\n",
    "anime_synopsis = anime_synopsis[anime_synopsis.index.isin(anime_df.index)]"
   ]
  },
  {
   "cell_type": "markdown",
   "metadata": {},
   "source": [
    "#### Fill 'Unknown' With np.nan or Zero for Numeric Values"
   ]
  },
  {
   "cell_type": "code",
   "execution_count": 9,
   "metadata": {},
   "outputs": [
    {
     "name": "stdout",
     "output_type": "stream",
     "text": [
      "feature: episodes, 477 unknown values filled.\n",
      "feature: score_10, 436 unknown values filled.\n",
      "feature: score_9, 3154 unknown values filled.\n",
      "feature: score_8, 1364 unknown values filled.\n",
      "feature: score_7, 501 unknown values filled.\n",
      "feature: score_6, 509 unknown values filled.\n",
      "feature: score_5, 582 unknown values filled.\n",
      "feature: score_4, 974 unknown values filled.\n",
      "feature: score_3, 1304 unknown values filled.\n",
      "feature: score_2, 1595 unknown values filled.\n",
      "feature: score_1, 457 unknown values filled.\n",
      "feature: score, 5124 unknown values filled.\n",
      "feature: ranking, 417 unknown values filled.\n",
      "There are  663 empty synopsis (snopsis == '') \n"
     ]
    }
   ],
   "source": [
    "# NUMERIC\n",
    "to_int = [\"episodes\", \"score_10\",\"score_9\",\"score_8\",\"score_7\",\"score_6\",\"score_5\",\"score_4\",\"score_3\",\"score_2\",\"score_1\"]\n",
    "to_float = [\"score\"]\n",
    "\n",
    "# I have done various experiments with these features, rank seems to be the best\n",
    "# and the most reliable measure among these.\n",
    "for i in to_int:\n",
    "    print(f\"feature: {i}, {(anime_df[i] == 'Unknown').sum()} unknown values filled.\")\n",
    "    anime_df.loc[:,i]= anime_df[i].apply(lambda x: 0 if x == \"Unknown\" else x)\n",
    "    anime_df.loc[:,i] = anime_df[i].astype(float) # \"0.0\" could not be connverted directly to 0 so first make it float, than int\n",
    "    anime_df.loc[:,i] = anime_df[i].astype(int)\n",
    "\n",
    "for i in to_float:\n",
    "    print(f\"feature: {i}, {(anime_df[i] == 'Unknown').sum()} unknown values filled.\")\n",
    "    anime_df.loc[:,i]= anime_df[i].apply(lambda x: np.nan if x == \"Unknown\" else x)\n",
    "    anime_df.loc[:,i] = anime_df[i].astype(float)\n",
    "    anime_synopsis.loc[:,i]= anime_synopsis[i].apply(lambda x: np.nan if x == \"Unknown\" else x)\n",
    "    anime_synopsis.loc[:,i] = anime_synopsis[i].astype(float)\n",
    "\n",
    "\n",
    "print(f\"feature: ranking, {(anime_df['ranked'] == 'Unknown').sum()} unknown values filled.\")\n",
    "anime_df.loc[:,'ranked'] = anime_df['ranked'].replace('Unknown', np.nan)\n",
    "anime_df.loc[:,'ranked'] = anime_df['ranked'].astype(float)\n",
    "anime_df.loc[:,'ranked'] = anime_df['ranked'].fillna(anime_df['ranked'].max()+1)\n",
    "anime_df.loc[:,'ranked'] = anime_df['ranked'].astype(int)\n",
    "\n",
    "\n",
    "\n",
    "# STRING\n",
    "\n",
    "# For the synopsis 'No synopsis information has been added to ...' should be mapped with empty string\n",
    "# If we will later on use synopsis info these values should be cleansed\n",
    "no_syn = 'No synopsis information has been added to this title. Help improve our database by adding a synopsis here .'\n",
    "anime_synopsis.synopsis.replace(no_syn, '', inplace=True)\n",
    "anime_synopsis.synopsis.fillna('', inplace=True)\n",
    "print(\"There are \", len(anime_synopsis.synopsis[anime_synopsis.synopsis == '']), \"empty synopsis (snopsis == '') \")\n",
    "\n",
    "del i, to_float, to_int, no_syn"
   ]
  },
  {
   "cell_type": "markdown",
   "metadata": {},
   "source": [
    "#### Looking for na"
   ]
  },
  {
   "cell_type": "code",
   "execution_count": 10,
   "metadata": {},
   "outputs": [
    {
     "data": {
      "text/plain": [
       "score    5124\n",
       "dtype: int64"
      ]
     },
     "execution_count": 10,
     "metadata": {},
     "output_type": "execute_result"
    }
   ],
   "source": [
    "anime_df.isna().sum()[anime_df.isna().sum() != 0] \n",
    "# Some score are missing (won't need for content based filtering)"
   ]
  },
  {
   "cell_type": "code",
   "execution_count": 11,
   "metadata": {},
   "outputs": [
    {
     "data": {
      "text/plain": [
       "score    4836\n",
       "dtype: int64"
      ]
     },
     "execution_count": 11,
     "metadata": {},
     "output_type": "execute_result"
    }
   ],
   "source": [
    "anime_synopsis.isna().sum()[anime_synopsis.isna().sum() != 0] \n",
    "# some scores are missing (won't need for content based filtering, in fact for this df we will only use the synopsis column) "
   ]
  },
  {
   "cell_type": "markdown",
   "metadata": {},
   "source": [
    "#### Saving as csv"
   ]
  },
  {
   "cell_type": "code",
   "execution_count": 12,
   "metadata": {},
   "outputs": [],
   "source": [
    "Path(\"./data_cleansed/\").mkdir(parents=True, exist_ok=True)\n",
    "\n",
    "anime_df.to_csv(\"data_cleansed/anime_info.csv\", index=False)\n",
    "anime_synopsis.to_csv(\"data_cleansed/anime_synopsis.csv\", index=False)\n",
    "\n",
    "del anime_synopsis, anime_df"
   ]
  },
  {
   "cell_type": "markdown",
   "metadata": {},
   "source": [
    "### <b>1.b Preparing Ratings Dataframe</b>"
   ]
  },
  {
   "cell_type": "markdown",
   "metadata": {},
   "source": [
    "#### Reading the rating dataset & dropping the duplicates"
   ]
  },
  {
   "cell_type": "code",
   "execution_count": 13,
   "metadata": {},
   "outputs": [
    {
     "name": "stdout",
     "output_type": "stream",
     "text": [
      "Before removing duplicate elements: 109,224,747 ratings\n",
      "After removing duplicate elements: 109,224,746 ratings\n"
     ]
    }
   ],
   "source": [
    "# A large dataset (takes about 1 min to load & remove duplicates)\n",
    "# (might even give an error depending on RAM)\n",
    "rating_master = pd.read_csv('data_raw/data/animelist.csv')\n",
    "print(f\"Before removing duplicate elements: {len(rating_master.index):,} ratings\")\n",
    "rating_master.drop_duplicates(inplace=True)\n",
    "print(f\"After removing duplicate elements: {len(rating_master.index):,} ratings\")"
   ]
  },
  {
   "cell_type": "markdown",
   "metadata": {},
   "source": [
    "#### Looking for info"
   ]
  },
  {
   "cell_type": "code",
   "execution_count": 14,
   "metadata": {},
   "outputs": [
    {
     "name": "stdout",
     "output_type": "stream",
     "text": [
      "<class 'pandas.core.frame.DataFrame'>\n",
      "Int64Index: 109224746 entries, 0 to 109224746\n",
      "Data columns (total 5 columns):\n",
      " #   Column            Dtype\n",
      "---  ------            -----\n",
      " 0   user_id           int64\n",
      " 1   anime_id          int64\n",
      " 2   rating            int64\n",
      " 3   watching_status   int64\n",
      " 4   watched_episodes  int64\n",
      "dtypes: int64(5)\n",
      "memory usage: 4.9 GB\n"
     ]
    }
   ],
   "source": [
    "rating_master.info()"
   ]
  },
  {
   "cell_type": "code",
   "execution_count": 15,
   "metadata": {},
   "outputs": [
    {
     "data": {
      "text/plain": [
       "Series([], dtype: int64)"
      ]
     },
     "execution_count": 15,
     "metadata": {},
     "output_type": "execute_result"
    }
   ],
   "source": [
    "rating_master.isna().sum()[rating_master.isna().sum() != 0] # No feature with na in it"
   ]
  },
  {
   "cell_type": "markdown",
   "metadata": {},
   "source": [
    "#### Filtering Adult Anime Ratings and Biased Ratings"
   ]
  },
  {
   "cell_type": "code",
   "execution_count": 16,
   "metadata": {},
   "outputs": [],
   "source": [
    "rating_master = rating_master[~rating_master['anime_id'].isin(adult_anime_ids)]\n",
    "del adult_anime_ids"
   ]
  },
  {
   "cell_type": "code",
   "execution_count": 17,
   "metadata": {},
   "outputs": [
    {
     "name": "stdout",
     "output_type": "stream",
     "text": [
      "There were 109,224,746 ratins before.\n",
      "Now with filtering there are 79,793,982 ratings\n"
     ]
    }
   ],
   "source": [
    "rating_master = rating_master[rating_master['watching_status'] != 6]\n",
    "# If watching status == 6 => plan to watch then filter them out\n",
    "# users gave rating without even watching a bit, biased\n",
    "\n",
    "# we won't need these features anymore\n",
    "rating_master = rating_master[['user_id', 'anime_id', 'rating']]  \n",
    "print(\"There were 109,224,746 ratins before.\")\n",
    "print(f\"Now with filtering there are {len(rating_master.index):,} ratings\")"
   ]
  },
  {
   "cell_type": "markdown",
   "metadata": {},
   "source": [
    "#### Saving rating files to cvs\n",
    "Warning: takes too long to save csv"
   ]
  },
  {
   "cell_type": "code",
   "execution_count": 18,
   "metadata": {},
   "outputs": [],
   "source": [
    "# this step takes a bit long too (1 min 30 sec approx.)\n",
    "rating_master.to_csv(\"data_cleansed/ratings.csv\", index=False)\n",
    "del rating_master"
   ]
  },
  {
   "cell_type": "markdown",
   "metadata": {},
   "source": [
    "### <b>1.c Reading watching status mapping csv</b>"
   ]
  },
  {
   "cell_type": "code",
   "execution_count": 19,
   "metadata": {},
   "outputs": [],
   "source": [
    "temp = pd.read_csv(\"data_raw/data/watching_status.csv\")"
   ]
  },
  {
   "cell_type": "code",
   "execution_count": 20,
   "metadata": {
    "scrolled": true
   },
   "outputs": [
    {
     "name": "stdout",
     "output_type": "stream",
     "text": [
      "   status         description\n",
      "0       1  Currently Watching\n",
      "1       2           Completed\n",
      "2       3             On Hold\n",
      "3       4             Dropped\n",
      "4       6       Plan to Watch\n"
     ]
    }
   ],
   "source": [
    "print(temp) # nothing to clear, can keep these in mind. (i won't need though)\n",
    "# not worth copying to clensed_data folder\n",
    "del temp"
   ]
  },
  {
   "cell_type": "markdown",
   "metadata": {},
   "source": [
    "## Cleansed Data Summary:"
   ]
  },
  {
   "cell_type": "code",
   "execution_count": 21,
   "metadata": {},
   "outputs": [],
   "source": [
    "# from os import listdir\n",
    "# print(\"Raw data consisted of these (excluding html folder)\")\n",
    "# listdir('data_raw/data/')"
   ]
  },
  {
   "cell_type": "code",
   "execution_count": 22,
   "metadata": {},
   "outputs": [],
   "source": [
    "# listdir('data_cleansed')"
   ]
  },
  {
   "attachments": {},
   "cell_type": "markdown",
   "metadata": {},
   "source": [
    " - <b>anime_info.csv:</b> consist of animes' detailed information like genre, studio, airing year, ratings number for each rate degree etc.<br>\n",
    " - <b>anime_synopsis.csv:</b> consist of basic info about anime like score and genre. But most importantly it includes the synopsis of anime. <br>\n",
    " - <b>ratings.csv:</b> includes all of the ratings of users that are given for animes which user actually watched (not have to be completely though). Watching status is a feature that exist in animelist.csv file. I only considered the subset of animelist.csv which is saved as ratings.csv<br> \n",
    "* NOTE: I did not use watching_status.csv and rating_complete.csv as i have only used animelist.csv that consist of all the ratings and filtered out ratings that are given without watching the anime (watching_status == 6)"
   ]
  },
  {
   "cell_type": "markdown",
   "metadata": {},
   "source": [
    "## <b>2 -  Data Preprocessing</b>"
   ]
  },
  {
   "cell_type": "code",
   "execution_count": 23,
   "metadata": {},
   "outputs": [],
   "source": [
    "from matplotlib import pyplot as plt\n",
    "from sklearn import preprocessing\n",
    "import seaborn as sns\n",
    "import numpy as np\n",
    "import pandas as pd\n",
    "import pickle\n",
    "import yake\n",
    "from pathlib import Path\n",
    "from scipy.sparse import csr_matrix, save_npz\n",
    "import scipy.sparse\n",
    "sns.set()"
   ]
  },
  {
   "cell_type": "markdown",
   "metadata": {},
   "source": [
    "### 2.a Reading Cleansed Anime and Rating CSVs"
   ]
  },
  {
   "cell_type": "code",
   "execution_count": 24,
   "metadata": {},
   "outputs": [],
   "source": [
    "# These two will be our master variables throughout the preprocessing part\n",
    "# We will only delete these at the end of this section\n",
    "ratings = pd.read_csv('data_cleansed/ratings.csv')\n",
    "animes = pd.read_csv('data_cleansed/anime_info.csv')"
   ]
  },
  {
   "cell_type": "markdown",
   "metadata": {},
   "source": [
    "### 2.b Ratings: Removing Outlier Users' Ratings and Unpopular Anime's Ratings, Select Ratings and Scale"
   ]
  },
  {
   "cell_type": "markdown",
   "metadata": {},
   "source": [
    "#### Removing Outliers: filter users that give very few (or very  large) number of ratings "
   ]
  },
  {
   "cell_type": "code",
   "execution_count": 25,
   "metadata": {},
   "outputs": [
    {
     "data": {
      "image/png": "[encoded data removed]",
      "text/plain": [
       "<Figure size 432x288 with 1 Axes>"
      ]
     },
     "metadata": {},
     "output_type": "display_data"
    }
   ],
   "source": [
    "# If a user rated too many anime we consider them as outlier. They might be bots\n",
    "# Or the opposite is also true, some users are crazy enough to create fake accounts and\n",
    "# boost the anime they are fan of by giving high scores (resulting in some users giving only a few ratings). We will eliminate them. \n",
    "plt.boxplot(ratings.user_id.value_counts())\n",
    "plt.title('Boxplot of each users number of ratings')\n",
    "plt.show()\n",
    "# bad"
   ]
  },
  {
   "cell_type": "code",
   "execution_count": 26,
   "metadata": {},
   "outputs": [
    {
     "name": "stdout",
     "output_type": "stream",
     "text": [
      "Before outlier removal user num: 324,220\n",
      "Before outlier removal rating num: 79,793,982\n",
      "Before outlier removal rated anime num:    15,884\n",
      "########################################################\n",
      "####################   Outlier Removal   ###############\n",
      "########################################################\n",
      "After outlier removal user num: 304,820\n",
      "After outlier removal rating num: 58,588,242\n",
      "After outlier removal rated anime num:    14,742\n"
     ]
    }
   ],
   "source": [
    "# Detecting and filtering out outlier users \n",
    "# some users have more than necessary ratings (max user has 15000 ratings. might be even\n",
    "# a bot, or a real weeb :) and some have very few reviews. we don't want to include them.\n",
    "temp_df = ratings.user_id.value_counts() # df that holds num of rating for each user\n",
    "\n",
    "IQR = temp_df.quantile(q=0.75) - temp_df.quantile(q=0.25)\n",
    "u_bound = (temp_df.quantile(q=0.75) + 1.5*IQR)\n",
    "l_bound = (temp_df.quantile(q=0.25) - 1.5*IQR)\n",
    "outlier_filter = temp_df.between(left=l_bound, right=u_bound)\n",
    "\n",
    "\n",
    "print(f\"Before outlier removal user num: {len(temp_df.index):,}\")\n",
    "print(f\"Before outlier removal rating num: {len(ratings.index):,}\")\n",
    "print(f\"Before outlier removal rated anime num:\\\n",
    "    {len(ratings.anime_id.value_counts().index):,}\")\n",
    "print(\"########################################################\")\n",
    "print(\"####################   Outlier Removal   ###############\")\n",
    "print(\"########################################################\")\n",
    "ratings = ratings[ratings['user_id'].isin((temp_df[outlier_filter]).index)] # filtering\n",
    "\n",
    "print(f\"After outlier removal user num: {len(temp_df[outlier_filter].index):,}\")\n",
    "print(f\"After outlier removal rating num: {len(ratings.index):,}\")\n",
    "print(f\"After outlier removal rated anime num:\\\n",
    "    {len(ratings.anime_id.value_counts().index):,}\")\n",
    "\n",
    "del temp_df, outlier_filter, IQR, u_bound, l_bound"
   ]
  },
  {
   "cell_type": "code",
   "execution_count": 27,
   "metadata": {},
   "outputs": [
    {
     "data": {
      "image/png": "[encoded data removed]",
      "text/plain": [
       "<Figure size 432x288 with 1 Axes>"
      ]
     },
     "metadata": {},
     "output_type": "display_data"
    }
   ],
   "source": [
    "plt.boxplot(ratings.user_id.value_counts())\n",
    "plt.title('Boxplot of each users number of ratings after outlier removal')\n",
    "plt.show()\n",
    "# better"
   ]
  },
  {
   "cell_type": "markdown",
   "metadata": {},
   "source": [
    "But there are still users with one or really less number of ratings. They will not provide us any (or very very little) information."
   ]
  },
  {
   "cell_type": "markdown",
   "metadata": {},
   "source": [
    "#### Selecting ratings: make sure there aren't any user that give less ratings than the specified threashold"
   ]
  },
  {
   "cell_type": "code",
   "execution_count": 28,
   "metadata": {},
   "outputs": [
    {
     "data": {
      "image/png": "[encoded data removed]",
      "text/plain": [
       "<Figure size 432x288 with 1 Axes>"
      ]
     },
     "metadata": {},
     "output_type": "display_data"
    },
    {
     "data": {
      "text/plain": [
       "count    304820.000000\n",
       "mean        192.206030\n",
       "std         160.363286\n",
       "min           1.000000\n",
       "25%          66.000000\n",
       "50%         150.000000\n",
       "75%         281.000000\n",
       "max         692.000000\n",
       "Name: user_id, dtype: float64"
      ]
     },
     "execution_count": 28,
     "metadata": {},
     "output_type": "execute_result"
    }
   ],
   "source": [
    "plt.hist(ratings['user_id'].value_counts(),bins=50)\n",
    "plt.xticks(np.arange(0,800,30), rotation=90)\n",
    "plt.ylabel('Number of User')\n",
    "plt.xlabel('Given Rating Num')\n",
    "plt.show()\n",
    "ratings['user_id'].value_counts().describe()"
   ]
  },
  {
   "cell_type": "code",
   "execution_count": 29,
   "metadata": {},
   "outputs": [],
   "source": [
    "temp_df = ratings.user_id.value_counts()\n",
    "temp_rating_filter = temp_df >= 66 # Threshold: > 0.25 percentile\n",
    "ratings = ratings[ratings['user_id'].isin((temp_df[temp_rating_filter]).index)]\n",
    "del temp_rating_filter, temp_df"
   ]
  },
  {
   "cell_type": "code",
   "execution_count": 30,
   "metadata": {},
   "outputs": [
    {
     "data": {
      "image/png": "[encoded data removed]",
      "text/plain": [
       "<Figure size 432x288 with 1 Axes>"
      ]
     },
     "metadata": {},
     "output_type": "display_data"
    },
    {
     "data": {
      "text/plain": [
       "count    228751.000000\n",
       "mean        246.291360\n",
       "std         149.719961\n",
       "min          66.000000\n",
       "25%         126.000000\n",
       "50%         205.000000\n",
       "75%         332.000000\n",
       "max         692.000000\n",
       "Name: user_id, dtype: float64"
      ]
     },
     "execution_count": 30,
     "metadata": {},
     "output_type": "execute_result"
    }
   ],
   "source": [
    "plt.hist(ratings['user_id'].value_counts(),bins=50)\n",
    "plt.xticks(np.arange(0,800,30), rotation=90)\n",
    "plt.ylabel('Number of User')\n",
    "plt.xlabel('Given Rating Num')\n",
    "plt.show()\n",
    "ratings['user_id'].value_counts().describe()"
   ]
  },
  {
   "cell_type": "markdown",
   "metadata": {},
   "source": [
    "#### Selecting ratings again: this time for animes that are rated really few times"
   ]
  },
  {
   "cell_type": "code",
   "execution_count": 31,
   "metadata": {},
   "outputs": [
    {
     "data": {
      "text/plain": [
       "count     14720.000000\n",
       "mean       3827.404552\n",
       "std       11505.901336\n",
       "min           1.000000\n",
       "25%          11.000000\n",
       "50%         159.000000\n",
       "75%        1859.250000\n",
       "max      176486.000000\n",
       "Name: anime_id, dtype: float64"
      ]
     },
     "execution_count": 31,
     "metadata": {},
     "output_type": "execute_result"
    }
   ],
   "source": [
    "ratings['anime_id'].value_counts().describe()"
   ]
  },
  {
   "cell_type": "code",
   "execution_count": 32,
   "metadata": {},
   "outputs": [
    {
     "name": "stdout",
     "output_type": "stream",
     "text": [
      "Before non populer anime removal user num: 228,751\n",
      "Before non populer anime removal rating num: 56,339,395\n",
      "Before non populer anime removal rated anime num: 14,720\n",
      "\n",
      "\n",
      "After non populer anime removal user num: 228,751\n",
      "After non populer anime removal rating num: 56,324,038\n",
      "After non populer anime removal rated anime num: 10,973\n"
     ]
    }
   ],
   "source": [
    "print(f\"Before non populer anime removal user num: {len(ratings.user_id.value_counts().index):,}\")\n",
    "print(f\"Before non populer anime removal rating num: {len(ratings.index):,}\")\n",
    "print(f\"Before non populer anime removal rated anime num: {len(ratings.anime_id.value_counts().index):,}\")\n",
    "\n",
    "temp_df = ratings['anime_id'].value_counts()\n",
    "anime_filter = temp_df.quantile(0.25, interpolation='nearest')# with 11 ratings we won't get many info related to anime\n",
    "temp_df = temp_df[temp_df > int(anime_filter)]\n",
    "ratings = ratings[ratings['anime_id'].isin(temp_df.index)]\n",
    "\n",
    "print(\"\\n\")\n",
    "print(f\"After non populer anime removal user num: {len(ratings.user_id.value_counts().index):,}\")\n",
    "print(f\"After non populer anime removal rating num: {len(ratings.index):,}\")\n",
    "print(f\"After non populer anime removal rated anime num: {len(temp_df.index):,}\")\n",
    "del temp_df, anime_filter\n"
   ]
  },
  {
   "cell_type": "markdown",
   "metadata": {},
   "source": [
    "#### Scaling Ratings"
   ]
  },
  {
   "cell_type": "code",
   "execution_count": 33,
   "metadata": {},
   "outputs": [],
   "source": [
    "scaler = preprocessing.MinMaxScaler()\n",
    "ratings['rating'] = scaler.fit_transform(np.array(ratings['rating']).reshape(-1,1))\n",
    "del scaler"
   ]
  },
  {
   "cell_type": "markdown",
   "metadata": {},
   "source": [
    "### 2.c Anime Info DataFrame: Selecting Animes (Filter Out Really Unpopuler or Unloved Ones)\n",
    "By feature engineering & comparing with ratings"
   ]
  },
  {
   "cell_type": "markdown",
   "metadata": {},
   "source": [
    "#### Feature Engineering and Filtering Based on Created Features\n",
    "Trying to get two measures: How relevant anime is and how loved is it."
   ]
  },
  {
   "cell_type": "code",
   "execution_count": 34,
   "metadata": {},
   "outputs": [
    {
     "data": {
      "image/png": "[encoded data removed]",
      "text/plain": [
       "<Figure size 432x288 with 2 Axes>"
      ]
     },
     "metadata": {},
     "output_type": "display_data"
    }
   ],
   "source": [
    "sns.heatmap(animes.corr())\n",
    "plt.show()"
   ]
  },
  {
   "cell_type": "code",
   "execution_count": 35,
   "metadata": {},
   "outputs": [],
   "source": [
    "## These two features will be used in relevancy\n",
    "\n",
    "w = preprocessing.normalize([np.array(animes['watching'])])\n",
    "p = preprocessing.normalize([np.array(animes['plan_to_watch'])])\n",
    "o = preprocessing.normalize([np.array(animes['on_hold'])])\n",
    "c = preprocessing.normalize([np.array(animes['completed'])])\n",
    "d = preprocessing.normalize([np.array(animes['dropped'])]) # user changed mind and didn't watch: negative\n",
    "\n",
    "animes.ranked.replace(0,animes.ranked.max()+1, inplace=True)\n",
    "r_p = preprocessing.normalize([1/np.array(animes['ranked'])]) # r_p: rank point\n",
    "\n",
    "# popularity and ranking of 2 animes are 0, which is not valid actually (and was not mentioned by the author of the data)\n",
    "# so i had to fill these values up by manually, i filled them by animes.feature.max() + 1 as i believe if they\n",
    "# were to be popular they wouldn't have invalid values for popularity\n",
    "animes.popularity.replace(0,animes.popularity.max()+1, inplace=True)\n",
    "pp = preprocessing.normalize([1 / np.array(animes['popularity'])])\n",
    "\n",
    "m = preprocessing.normalize([np.array(animes['members'])])\n",
    "f = preprocessing.normalize([np.array(animes['favorites'])])\n",
    "\n",
    "# gave really low score: negative (h: hatred)\n",
    "h = preprocessing.normalize([np.array(animes[['score_3', 'score_2', 'score_1']].sum(axis=1))]) \n",
    "\n",
    "# How many users rated that anime: rate count\n",
    "rc = preprocessing.normalize([np.array(animes.loc[:,\"score_10\":\"score_1\"].sum(axis=1))])\n",
    "\n",
    "# How many users watched this anime (currently watching, counts more in relevancy) vr: view rate \n",
    "vr = w[0] + 0.8*p[0] + 0.6*o[0] + 0.4*c[0] + 0.4*d[0]\n",
    "vr = preprocessing.normalize([vr])\n",
    "relevancy_score = vr[0] + rc[0]\n",
    "relevancy_score = preprocessing.normalize([relevancy_score])\n",
    "animes['relevancy_score'] = relevancy_score[0]\n",
    "\n",
    "\n",
    "## This features will be used in love_score\n",
    "love_score = f[0] + 0.8*pp[0] + 0.6*m[0] + 0.6*r_p[0] - 0.4*d[0] - 0.8*h[0]\n",
    "love_score = preprocessing.normalize([love_score])\n",
    "animes['love_score'] = love_score[0]\n",
    "\n",
    "# dropping other unnecessary columns\n",
    "del c,w,p,o,d,r_p,pp,m,f,h,rc,vr,relevancy_score,love_score\n",
    "animes.drop(columns=['ranked'],inplace=True) \n",
    "animes.drop(columns=['watching', 'completed', 'on_hold', 'dropped', 'plan_to_watch'],inplace=True)\n",
    "animes.drop(columns=['score_10', 'score_9', 'score_8', 'score_7', 'score_6',\n",
    "       'score_5', 'score_4', 'score_3', 'score_2', 'score_1'],inplace=True)\n",
    "# for score: ranking is already an index based on this, corr=-1 nearly\n",
    "animes.drop(columns=['score', 'popularity', 'members', 'favorites'],inplace=True)"
   ]
  },
  {
   "cell_type": "code",
   "execution_count": 36,
   "metadata": {},
   "outputs": [
    {
     "data": {
      "image/png": "[encoded data removed]",
      "text/plain": [
       "<Figure size 432x288 with 2 Axes>"
      ]
     },
     "metadata": {},
     "output_type": "display_data"
    }
   ],
   "source": [
    "sns.heatmap(animes.corr())\n",
    "plt.xticks(rotation=45)\n",
    "plt.show()"
   ]
  },
  {
   "cell_type": "code",
   "execution_count": 37,
   "metadata": {},
   "outputs": [
    {
     "data": {
      "text/html": [
       "<div>\n",
       "<style scoped>\n",
       "    .dataframe tbody tr th:only-of-type {\n",
       "        vertical-align: middle;\n",
       "    }\n",
       "\n",
       "    .dataframe tbody tr th {\n",
       "        vertical-align: top;\n",
       "    }\n",
       "\n",
       "    .dataframe thead th {\n",
       "        text-align: right;\n",
       "    }\n",
       "</style>\n",
       "<table border=\"1\" class=\"dataframe\">\n",
       "  <thead>\n",
       "    <tr style=\"text-align: right;\">\n",
       "      <th></th>\n",
       "      <th>anime_id</th>\n",
       "      <th>episodes</th>\n",
       "      <th>relevancy_score</th>\n",
       "      <th>love_score</th>\n",
       "    </tr>\n",
       "  </thead>\n",
       "  <tbody>\n",
       "    <tr>\n",
       "      <th>anime_id</th>\n",
       "      <td>1.000000</td>\n",
       "      <td>-0.092706</td>\n",
       "      <td>-0.053995</td>\n",
       "      <td>-0.029899</td>\n",
       "    </tr>\n",
       "    <tr>\n",
       "      <th>episodes</th>\n",
       "      <td>-0.092706</td>\n",
       "      <td>1.000000</td>\n",
       "      <td>0.066697</td>\n",
       "      <td>0.026479</td>\n",
       "    </tr>\n",
       "    <tr>\n",
       "      <th>relevancy_score</th>\n",
       "      <td>-0.053995</td>\n",
       "      <td>0.066697</td>\n",
       "      <td>1.000000</td>\n",
       "      <td>0.546710</td>\n",
       "    </tr>\n",
       "    <tr>\n",
       "      <th>love_score</th>\n",
       "      <td>-0.029899</td>\n",
       "      <td>0.026479</td>\n",
       "      <td>0.546710</td>\n",
       "      <td>1.000000</td>\n",
       "    </tr>\n",
       "  </tbody>\n",
       "</table>\n",
       "</div>"
      ],
      "text/plain": [
       "                 anime_id  episodes  relevancy_score  love_score\n",
       "anime_id         1.000000 -0.092706        -0.053995   -0.029899\n",
       "episodes        -0.092706  1.000000         0.066697    0.026479\n",
       "relevancy_score -0.053995  0.066697         1.000000    0.546710\n",
       "love_score      -0.029899  0.026479         0.546710    1.000000"
      ]
     },
     "execution_count": 37,
     "metadata": {},
     "output_type": "execute_result"
    }
   ],
   "source": [
    "animes.corr()\n",
    "# Not that bad for relevancy and love score correlation, we should've already expected\n",
    "# that these two scores would be correlated. (features we used were correlated among them)\n",
    "# High correlation would make our 'good animes to consider' filter too wide \n",
    "# low correlation would make the opposite I belive where these two\n",
    "# metrics are currently is good"
   ]
  },
  {
   "cell_type": "markdown",
   "metadata": {},
   "source": [
    "<b>Filtering Animes</b>"
   ]
  },
  {
   "cell_type": "code",
   "execution_count": 38,
   "metadata": {},
   "outputs": [
    {
     "name": "stdout",
     "output_type": "stream",
     "text": [
      "Before the filter, the number of anime is:  16217\n",
      "After the filter, the number of anime is:  15406\n"
     ]
    }
   ],
   "source": [
    "animes['temp_geo_average'] = animes['love_score']*animes['relevancy_score'] / \\\n",
    "    (animes['love_score'] + animes['relevancy_score'])\n",
    "\n",
    "temp_filter = animes['temp_geo_average']>animes['temp_geo_average'].quantile(0.05) # filter based on geometric average of two score\n",
    "print(\"Before the filter, the number of anime is: \",len(animes))\n",
    "animes = animes[temp_filter]\n",
    "print(\"After the filter, the number of anime is: \",len(animes))\n",
    "animes.drop(columns=['temp_geo_average'], inplace=True)\n",
    "del temp_filter"
   ]
  },
  {
   "cell_type": "markdown",
   "metadata": {},
   "source": [
    "#### Removing animes that are not rated (not in the ratings df) & removing ratings of animes that are not in animes df"
   ]
  },
  {
   "cell_type": "code",
   "execution_count": 39,
   "metadata": {},
   "outputs": [
    {
     "name": "stdout",
     "output_type": "stream",
     "text": [
      "Before filtering by ratings, anime num in anime info df: 15,406\n",
      "After filtering by ratings, anime num in anime info df: 10,163\n",
      "\n",
      "\n",
      "Before filtering rating num: 56324038\n",
      "Before filtering user num that rated: 228,751\n",
      "Before filtering anime num: 10,973\n",
      "\n",
      "After filtering rating num: 46,550,235\n",
      "After filtering user num that rated: 228,751\n",
      "After filtering anime num: 10,163\n"
     ]
    }
   ],
   "source": [
    "print(f\"Before filtering by ratings, anime num in anime info df: {len(animes.index):,}\")\n",
    "animes = animes[animes['anime_id'].isin(set(ratings.anime_id))]\n",
    "print(f\"After filtering by ratings, anime num in anime info df: {len(animes.index):,}\\n\\n\")\n",
    "\n",
    "# only consider ratings that are in animes dataframe (for collaborative and content based filter consistency)\n",
    "# This should not effect our df too much but it is better to see how much it changes\n",
    "print(f\"Before filtering rating num: {len(ratings.index)}\")\n",
    "print(f\"Before filtering user num that rated: {len(ratings.user_id.unique()):,}\")\n",
    "print(f\"Before filtering anime num: {len(ratings.anime_id.unique()):,}\")\n",
    "ratings = ratings[ratings.anime_id.isin(animes.anime_id)]\n",
    "print(\"\")\n",
    "print(f\"After filtering rating num: {len(ratings.index):,}\")\n",
    "print(f\"After filtering user num that rated: {len(ratings.user_id.unique()):,}\")\n",
    "print(f\"After filtering anime num: {len(ratings.anime_id.unique()):,}\")"
   ]
  },
  {
   "cell_type": "markdown",
   "metadata": {},
   "source": [
    "### 2.d Creating Encoding and Decoding Dictionaries For Anime and User IDs "
   ]
  },
  {
   "cell_type": "code",
   "execution_count": 40,
   "metadata": {},
   "outputs": [],
   "source": [
    "user_id_decoding = {i:x for i,x in enumerate(ratings['user_id'].unique())}\n",
    "user_id_encoding = {x:i for i,x in enumerate(ratings['user_id'].unique())}\n",
    "\n",
    "anime_id_decoding = {i:x for i,x in enumerate(ratings['anime_id'].unique())}\n",
    "anime_id_encoding = {x:i for i,x in enumerate(ratings['anime_id'].unique())}\n",
    "ratings.user_id = ratings.user_id.map(user_id_encoding)\n",
    "ratings.anime_id = ratings.anime_id.map(anime_id_encoding)\n",
    "animes.anime_id = animes.anime_id.map(anime_id_encoding)\n",
    "\n",
    "\n",
    "Path(\"./model/required_data\").mkdir(parents=True, exist_ok=True)\n",
    "\n",
    "with open('model/required_data/anime_id_decoding.pickle', 'wb') as file:\n",
    "    pickle.dump(anime_id_decoding, file, pickle.HIGHEST_PROTOCOL)\n",
    "\n",
    "with open('model/required_data/anime_id_encoding.pickle', 'wb') as file:\n",
    "    pickle.dump(anime_id_encoding, file, pickle.HIGHEST_PROTOCOL)\n",
    "\n",
    "with open('model/required_data/user_id_encoding.pickle', 'wb') as file:\n",
    "    pickle.dump(user_id_encoding, file, pickle.HIGHEST_PROTOCOL)\n",
    "\n",
    "with open('model/required_data/user_id_decoding.pickle', 'wb') as file:\n",
    "    pickle.dump(user_id_decoding, file, pickle.HIGHEST_PROTOCOL)\n",
    "\n",
    "del user_id_decoding, user_id_encoding, anime_id_decoding"
   ]
  },
  {
   "cell_type": "markdown",
   "metadata": {},
   "source": [
    "### 2.e Adding metadata feature to animes using other columns"
   ]
  },
  {
   "cell_type": "code",
   "execution_count": 41,
   "metadata": {},
   "outputs": [],
   "source": [
    "# I used YAKE (Yet Another Keyword Extraction Algorithm) for extracting info from text\n",
    "# yake is an implementation of this algorithm in python\n",
    "# !pip install yake\n",
    "# already imported at the start of the preprocessing seciton\n",
    "# import yake\n",
    "# Only the 'synopsis' column will be used from this df. We know that this column is in correct form\n",
    "# there is '' for no synopsis\n",
    "animes_w_synopsis = pd.read_csv('data_cleansed/anime_synopsis.csv')\n",
    "animes_w_synopsis = animes_w_synopsis[animes_w_synopsis['name'].isin(animes['name'])]\n",
    "animes_w_synopsis.anime_id = animes_w_synopsis.anime_id.map(anime_id_encoding)\n",
    "animes = pd.merge(animes, animes_w_synopsis[['anime_id','synopsis']], on=\"anime_id\", how=\"left\")\n",
    "animes.synopsis.fillna('', inplace=True) # for animes that don't correspond to animes_w_synopsis\n",
    "del animes_w_synopsis, anime_id_encoding\n",
    "\n",
    "\n",
    "# initilaze empty string for all animes' meta data combined string\n",
    "animes['meta_combined'] = ''\n",
    "\n",
    "\n",
    "basic_str_op_lst = ['studios', 'producers', 'licensors', 'genres', 'type', 'source']\n",
    "feature_weigths = {'studios':1, 'producers':1, 'licensors':1, 'genres':2, 'type':1, 'source':1}\n",
    "\n",
    "for col in basic_str_op_lst:\n",
    "    animes[col] = animes[col].str.replace(\" \",\"\")\n",
    "    animes[col] = animes[col].str.replace(\",\",\" \")\n",
    "    animes[col].replace('Unknown', '', inplace=True)\n",
    "    animes[col] = animes[col].str.lower()\n"
   ]
  },
  {
   "cell_type": "code",
   "execution_count": 42,
   "metadata": {},
   "outputs": [],
   "source": [
    "# takes about a minute and thirty seconds\n",
    "def get_meta_combined(row):\n",
    "    phrase = ''\n",
    "    for feature in basic_str_op_lst:\n",
    "        text = row[feature]\n",
    "        if text == \"\":\n",
    "            continue\n",
    "        phrase += \" \" +  \" \".join([text]*feature_weigths[feature]).strip()\n",
    "        \n",
    "    text = row['synopsis']\n",
    "    if text == \"\":\n",
    "        return phrase.strip()\n",
    "    language = \"en\"\n",
    "    max_phrase_size = 1\n",
    "    num_of_words = 10\n",
    "    \n",
    "    y = yake.KeywordExtractor(lan=language, n=max_phrase_size, top=num_of_words, features=None)\n",
    "    \n",
    "    key_words = y.extract_keywords(text)\n",
    "    scaler = preprocessing.MinMaxScaler(feature_range=(1,3))\n",
    "    key_word_weigths = scaler.fit_transform(np.flip(np.array([x[1] for x in key_words])).reshape(-1,1)).flatten()\n",
    "    for i, word in enumerate(key_words):\n",
    "        phrase += \" \" + \" \".join([word[0].strip()] * round(key_word_weigths[i])).strip()\n",
    "        \n",
    "    return phrase.strip()\n",
    "    \n",
    "\n",
    "animes['meta_combined'] = animes.apply(get_meta_combined, axis=1)\n",
    "animes['meta_combined'] = animes['meta_combined'].str.lower()\n",
    "animes.sort_values(by='anime_id', ascending=True, inplace=True)"
   ]
  },
  {
   "cell_type": "code",
   "execution_count": 43,
   "metadata": {},
   "outputs": [],
   "source": [
    "# One might one to save these, because otherwise we'll change these elements for model building\n",
    "# and while recommending we will need these content e.g. finding recommended encoded anime numbers won't be enough\n",
    "# we'll need to show anime name to the user\n",
    "Path(\"./model_building_variables/\").mkdir(parents=True, exist_ok=True)\n",
    "Path(\"./model/required_data\").mkdir(parents=True, exist_ok=True)\n",
    "\n",
    "animes.to_csv(\"model_building_variables/animes_preprocessed.csv\", index=False)\n",
    "\n",
    "    \n",
    "animes.to_csv(\"model/required_data/animes_preprocessed.csv\", index=False)\n",
    "# Names of the animes' are required for recommending (only enocded id is not enough)\n",
    "del animes"
   ]
  },
  {
   "cell_type": "markdown",
   "metadata": {},
   "source": [
    "### 2.f Removing Bias From User Ratings"
   ]
  },
  {
   "cell_type": "code",
   "execution_count": 44,
   "metadata": {},
   "outputs": [],
   "source": [
    "temp = ratings.copy()\n",
    "\n",
    "temp['item_mean'] = temp.groupby('anime_id')['rating'].transform('mean')\n",
    "temp['user_deviation'] = temp['rating'] - temp['item_mean']\n",
    "\n",
    "user_bias = temp.groupby('user_id')['user_deviation'].mean()\n",
    "ratings['rating'] -= temp.groupby('user_id')['user_deviation'].transform('mean')\n",
    "del temp"
   ]
  },
  {
   "cell_type": "markdown",
   "metadata": {},
   "source": [
    "### 2.g Saving preprocessed rating data inside model variables"
   ]
  },
  {
   "cell_type": "code",
   "execution_count": 45,
   "metadata": {},
   "outputs": [],
   "source": [
    "ratings.to_csv(\"model_building_variables/ratings_preprocessed.csv\", index=False)\n",
    "user_bias.to_csv(\"model_building_variables/user_biases.csv\", index=True)\n",
    "ui_matrix = csr_matrix((ratings['rating'],(ratings['user_id'], ratings['anime_id'])))\n",
    "save_npz('model/ui_matrix.npz', ui_matrix) # this is directl a part of memory based func\n",
    "# that's why we saved it under 'model' folder\n",
    "del ratings, ui_matrix"
   ]
  },
  {
   "cell_type": "markdown",
   "metadata": {},
   "source": [
    "## <b>3 - Model Building </b>"
   ]
  },
  {
   "cell_type": "markdown",
   "metadata": {},
   "source": [
    "### 3.a Creating Anime-Similarity Matrix From Anime Meta Data: Content Based Filtering"
   ]
  },
  {
   "cell_type": "code",
   "execution_count": 46,
   "metadata": {},
   "outputs": [],
   "source": [
    "import numpy as np\n",
    "import pandas as pd\n",
    "from sklearn.metrics.pairwise import cosine_similarity\n",
    "from sklearn.feature_extraction.text import CountVectorizer\n",
    "from sklearn.model_selection import train_test_split\n",
    "import matplotlib.pyplot as plt\n",
    "import seaborn as sns\n",
    "from pathlib import Path\n",
    "\n",
    "sns.set(rc={'axes.facecolor':'#6c7c96', 'figure.facecolor':'#c29380'})\n",
    "np.random.seed(42)\n",
    "\n",
    "animes = pd.read_csv(\"model_building_variables/animes_preprocessed.csv\")\n",
    "\n",
    "count_term = CountVectorizer()\n",
    "\n",
    "count_matrix = count_term.fit_transform(animes['meta_combined'])\n",
    "cosine_sim = cosine_similarity(count_matrix, count_matrix)\n",
    "\n",
    "Path(\"./model/\").mkdir(parents=True, exist_ok=True)\n",
    "\n",
    "np.save('model/anime_similarity_matrix.npy',cosine_sim)\n",
    "del cosine_sim, count_matrix, count_term, animes"
   ]
  },
  {
   "attachments": {},
   "cell_type": "markdown",
   "metadata": {},
   "source": [
    "### 3.b Utilizing User-Item Matrix: Collaborative Filtering\n",
    " - Using Matrix Factorization on User-Item Matrix to Extract info (representation) related to items and users.<br>\n",
    "    We are trying to get U and I matrices such that:<br>\n",
    "    U @ I = M (FOR ONLY KNOWN RATINGS)<br>\n",
    "    where U_(x,n) represents user feature matrix, I_(n,y) represents item feature matrix\n",
    "    and M_(x,y) represents user-item matrix\n",
    "\n"
   ]
  },
  {
   "cell_type": "code",
   "execution_count": 47,
   "metadata": {},
   "outputs": [],
   "source": [
    "def SGD_matrix_factorization(R, K:int, u_s:int, i_s: int, l_ratio: float,\n",
    " beta:float, steps=100, seed=42, batch_size=0.005, return_errors=False):\n",
    "    \"\"\"\n",
    "    SGD based matrix factorization. \n",
    "    user-item matrix is used to create U and V matrices such that U @ V ~ UI \n",
    "    For each step random users are selected, U and V altering is done for \n",
    "    these users. As the step size increases nearly all entries are included \n",
    "    for the matrix factorization. This method can be usefull in where UI matrix \n",
    "    is too big to consider for each iteration (step). \n",
    "    \n",
    "    \n",
    "    R: Numpy array of ratings in the format of [[user_id, item_id, rating], ...] \n",
    "    K: Number of latent factors (features) wanted for users and for items \n",
    "    u_s: user size (number of users)\n",
    "    i_s: item size (number of items)\n",
    "    l_ratio: Learning rate \n",
    "    beta: Regularization term\n",
    "    steps: Trainig epoch number\n",
    "    seed: Random seed for SGD's randomness\n",
    "    batch_size: The size that determines how many ratings (percentage of rating number)\n",
    "    to select for each iteration (step) when applying SGD\n",
    "    return_errors: wether or not the function should return factorization errors as a list for each iterations\n",
    "    \"\"\"\n",
    "\n",
    "    import numpy as np\n",
    "    from scipy.sparse import csr_matrix\n",
    "    from tqdm import tqdm\n",
    "    np.random.seed(seed=seed) # for reproduceblity\n",
    "\n",
    "    matrix = csr_matrix((R[:,2], (R[:,0].astype(np.int64), R[:,1].astype(np.int64))), shape=(u_s, i_s))\n",
    "    R = R[:,0:2].astype(np.int64) # reduce size\n",
    "\n",
    "    # Initialize the representation matrices U and V with random values\n",
    "    U = np.random.rand(u_s, K) - 0.5\n",
    "    V = np.random.rand(i_s, K) - 0.5\n",
    "\n",
    "    mse_errors = list()\n",
    "    rmse_errors = list()\n",
    "    mae_errors = list()\n",
    "    error_squared_sum = 0\n",
    "    error_absolute_sum = 0\n",
    "\n",
    "    print(f'Starting the train iterations with total of {steps} iterations.')\n",
    "    print(f'Each iteration covers {batch_size*100}% of the ratings.')\n",
    "    print(f'Statistically, each rating will be considered {steps*batch_size:.2f} time(s) during learning process.')\n",
    "    print('This number is an average of course.')\n",
    "    # Loop for the given number of iterations\n",
    "    for _ in tqdm(range(steps)):\n",
    "        # Loop through known ratings in the user-item matrix\n",
    "        random_indexes = np.random.choice(R.shape[0], size=int(R.shape[0]*batch_size), replace=False)\n",
    "        length_index = len(random_indexes)\n",
    "\n",
    "        for i, j in R[random_indexes]:\n",
    "            # Compute the error for this rating\n",
    "            eij = matrix[i, j] - np.dot(U[i, :], V[j, :])\n",
    "            \n",
    "            error_squared_sum += eij**2            \n",
    "            error_absolute_sum += abs(eij)            \n",
    "\n",
    "            # Update the matrices U and V using the SGD formula\n",
    "            U[i, :], V[j, :] = U[i, :] + l_ratio * (eij * V[j, :] - beta * U[i, :]), V[j, :] + l_ratio * (eij * U[i, :] - beta * V[j, :])\n",
    "\n",
    "        mae_errors.append(error_absolute_sum / length_index)\n",
    "        mse_errors.append(error_squared_sum / length_index)\n",
    "        rmse_errors.append((error_squared_sum / length_index)**0.5)\n",
    "        error_squared_sum = 0\n",
    "        error_absolute_sum = 0            \n",
    "\n",
    "    # Return the matrices U and V with or without errors\n",
    "    if return_errors:\n",
    "        return (U, V, (tuple(mse_errors), tuple(rmse_errors), tuple(mae_errors)))\n",
    "    else:\n",
    "        return (U, V)"
   ]
  },
  {
   "cell_type": "code",
   "execution_count": 48,
   "metadata": {},
   "outputs": [
    {
     "name": "stdout",
     "output_type": "stream",
     "text": [
      "Starting the train iterations with total of 500 iterations.\n",
      "Each iteration covers 0.2% of the ratings.\n",
      "Statistically, each rating will be considered 1.00 time(s) during learning process.\n",
      "This number is an average of course.\n"
     ]
    },
    {
     "name": "stderr",
     "output_type": "stream",
     "text": [
      "100%|██████████| 500/500 [35:11<00:00,  4.22s/it]\n"
     ]
    }
   ],
   "source": [
    "# takes about 34 minutes\n",
    "ratings = pd.read_csv('model_building_variables/ratings_preprocessed.csv')\n",
    "\n",
    "u_size = len(ratings.user_id.unique())\n",
    "i_size = len(ratings.anime_id.unique())\n",
    "\n",
    "ratings_train, ratings_test = train_test_split(ratings, random_state=42, test_size=0.2)\n",
    "del ratings\n",
    "\n",
    "U, V, *err = SGD_matrix_factorization(ratings_train.to_numpy(),\n",
    "K=50,\n",
    "steps=500,\n",
    "u_s=u_size,\n",
    "i_s=i_size,\n",
    "l_ratio=0.02,\n",
    "batch_size=0.002,\n",
    "beta=0.005, \n",
    "return_errors=True)\n",
    "\n",
    "del ratings_train"
   ]
  },
  {
   "cell_type": "code",
   "execution_count": 49,
   "metadata": {},
   "outputs": [],
   "source": [
    "predictions = pd.DataFrame(data=ratings_test['user_id'], columns=['user_id'])\n",
    "predictions['rating'] = (U[ratings_test['user_id']] * V[ratings_test['anime_id']]).sum(1)\n",
    "\n",
    "diff = ratings_test['rating'] - predictions['rating']\n",
    "\n",
    "mae_error = diff.abs().mean()\n",
    "mse_error = (diff **2).mean()\n",
    "rmse_error = mse_error ** 0.5"
   ]
  },
  {
   "cell_type": "code",
   "execution_count": 50,
   "metadata": {},
   "outputs": [
    {
     "name": "stdout",
     "output_type": "stream",
     "text": [
      "= without the bias of the user =\n",
      "\n",
      "test mae_error:  0.21346556505388545\n",
      "test mse_error:  0.0838027152190377\n",
      "test rmse_error:  0.28948698626887825\n"
     ]
    }
   ],
   "source": [
    "print(\"= without the bias of the user =\\n\")\n",
    "print(\"test mae_error: \", mae_error) \n",
    "print(\"test mse_error: \", mse_error)\n",
    "print(\"test rmse_error: \", rmse_error)"
   ]
  },
  {
   "cell_type": "code",
   "execution_count": 51,
   "metadata": {},
   "outputs": [],
   "source": [
    "bias = pd.read_csv(\"model_building_variables/user_biases.csv\")\n",
    "bias = bias[bias['user_id'].isin(ratings_test['user_id'])]\n",
    "bias.set_index('user_id')\n",
    "\n",
    "# takes about 57 seconds\n",
    "def add_bias(group):\n",
    "    return group + bias.loc[group.name].user_deviation\n",
    "\n",
    "predictions['rating'] = predictions.groupby('user_id')['rating'].transform(lambda x:add_bias(x))\n",
    "\n",
    "diff = ratings_test['rating'] - predictions['rating']\n",
    "\n",
    "mae_error_biased = diff.abs().mean()\n",
    "mse_error_biased = (diff **2).mean()\n",
    "rmse_error_biased = mse_error_biased ** 0.5"
   ]
  },
  {
   "cell_type": "code",
   "execution_count": 52,
   "metadata": {},
   "outputs": [
    {
     "name": "stdout",
     "output_type": "stream",
     "text": [
      "= after adding the bias of the user =\n",
      "\n",
      "test mae_error:  0.2671167531645284\n",
      "test mse_error:  0.13064491520294855\n",
      "test rmse_error:  0.36144835758784205\n"
     ]
    }
   ],
   "source": [
    "print(\"= after adding the bias of the user =\\n\")\n",
    "print(\"test mae_error: \", mae_error_biased) \n",
    "print(\"test mse_error: \", mse_error_biased)\n",
    "print(\"test rmse_error: \", rmse_error_biased)"
   ]
  },
  {
   "cell_type": "code",
   "execution_count": 53,
   "metadata": {},
   "outputs": [
    {
     "name": "stdout",
     "output_type": "stream",
     "text": [
      "For random: \n",
      "test mae_error:  0.3353777458560288\n",
      "test mse_error:  0.17071059692315735\n",
      "test rmse_error:  0.41317138928434693\n"
     ]
    }
   ],
   "source": [
    "print(\"For random: \")\n",
    "\n",
    "predictions['rating'] = np.random.rand(len(predictions.index))\n",
    "\n",
    "diff = ratings_test['rating'] - predictions['rating']\n",
    "\n",
    "random_mae_error = diff.abs().mean()\n",
    "random_mse_error = (diff **2).mean()\n",
    "random_rmse_error = random_mse_error ** 0.5\n",
    "\n",
    "print(\"test mae_error: \", random_mae_error)\n",
    "print(\"test mse_error: \", random_mse_error)\n",
    "print(\"test rmse_error: \", random_rmse_error)"
   ]
  },
  {
   "cell_type": "code",
   "execution_count": 54,
   "metadata": {},
   "outputs": [
    {
     "name": "stdout",
     "output_type": "stream",
     "text": [
      "0.802782333215193\n",
      "0.6507510596375111\n",
      "-0.8148734239315066\n",
      "-0.6475361102246207\n"
     ]
    }
   ],
   "source": [
    "print(U.max())\n",
    "print(V.max()) \n",
    "print(U.min())\n",
    "print(V.min()) \n",
    "# no feature is exaggerated, regularization worked"
   ]
  },
  {
   "cell_type": "code",
   "execution_count": 55,
   "metadata": {},
   "outputs": [
    {
     "data": {
      "image/png": "[encoded data removed]",
      "text/plain": [
       "<Figure size 1296x648 with 1 Axes>"
      ]
     },
     "metadata": {},
     "output_type": "display_data"
    }
   ],
   "source": [
    "fig, ax = plt.subplots(1,1, figsize=(18,9))\n",
    "ax.set_title('Error Rates as the Epoch Goes', fontsize=25)\n",
    "sns.lineplot(err[0][0], label=\"MSE\", color='red')\n",
    "sns.lineplot(err[0][1], label=\"RMSE\", color='purple')\n",
    "sns.lineplot(err[0][2], label=\"MAE\", color='orange')\n",
    "\n",
    "\n",
    "ax.legend(prop={'size':20})\n",
    "plt.show()\n"
   ]
  },
  {
   "cell_type": "code",
   "execution_count": 56,
   "metadata": {},
   "outputs": [
    {
     "data": {
      "image/png": "[encoded data removed]",
      "text/plain": [
       "<Figure size 1296x648 with 1 Axes>"
      ]
     },
     "metadata": {},
     "output_type": "display_data"
    }
   ],
   "source": [
    "fig, ax = plt.subplots(1,1, figsize=(18,9))\n",
    "ax.set_title('Error Rates as the Epoch Goes', fontsize=25)\n",
    "ax.set_xlim(left=20, right=500)\n",
    "\n",
    "ax.axhline(y=random_mse_error, label=\"random_mse_error\", color=\"red\", linestyle=\"--\")\n",
    "ax.axhline(y=random_mae_error, label=\"random_mae_error\", color=\"orange\", linestyle=\"--\")\n",
    "ax.axhline(y=random_rmse_error, label=\"random_rmse_error\", color=\"purple\", linestyle=\"--\")\n",
    "\n",
    "sns.lineplot(err[0][0][100:], label=\"MSE\", color='red')\n",
    "sns.lineplot(err[0][2][100:], label=\"MAE\", color='orange')\n",
    "sns.lineplot(err[0][1][100:], label=\"RMSE\", color='purple')\n",
    "\n",
    "ax.legend(prop={'size':20})\n",
    "plt.show()\n"
   ]
  },
  {
   "cell_type": "code",
   "execution_count": 57,
   "metadata": {},
   "outputs": [
    {
     "name": "stdout",
     "output_type": "stream",
     "text": [
      "mae at 1th epoch:  0.7160730726551546\n",
      "mse at 1th epoch:  0.749861422469835\n",
      "rmse at 1th epoch:  0.8659453923139928\n",
      "################\n",
      "mae at the 100th epoch:  0.6055435306047859\n",
      "mse at the 100th epoch:  0.45493437506669465\n",
      "rmse at the 100th epoch:  0.6744882319705027\n",
      "################\n",
      "mae at the 200th epoch:  0.3689563843471026\n",
      "mse at the 200th epoch:  0.2123432770364258\n",
      "rmse at the 200th epoch:  0.46080720158915245\n",
      "################\n",
      "mae at the 300th epoch:  0.2427844285516016\n",
      "mse at the 300th epoch:  0.1046394144653281\n",
      "rmse at the 300th epoch:  0.32348016085276093\n",
      "################\n",
      "mae at the 400th epoch:  0.21920869689321862\n",
      "mse at the 400th epoch:  0.08719658642490448\n",
      "rmse at the 400th epoch:  0.29529068123614144\n",
      "################\n",
      "mae at the 500th epoch:  0.20971011099890013\n",
      "mse at the 500th epoch:  0.0805351238990983\n",
      "rmse at the 500th epoch:  0.283787110170808\n"
     ]
    }
   ],
   "source": [
    "print(\"mae at 1th epoch: \",err[0][2][0])\n",
    "print(\"mse at 1th epoch: \",err[0][0][0])\n",
    "print(\"rmse at 1th epoch: \",err[0][1][0])\n",
    "print(\"################\")\n",
    "print(\"mae at the 100th epoch: \",err[0][2][100])\n",
    "print(\"mse at the 100th epoch: \",err[0][0][100])\n",
    "print(\"rmse at the 100th epoch: \",err[0][1][100])\n",
    "print(\"################\")\n",
    "print(\"mae at the 200th epoch: \",err[0][2][200])\n",
    "print(\"mse at the 200th epoch: \",err[0][0][200])\n",
    "print(\"rmse at the 200th epoch: \",err[0][1][200])\n",
    "print(\"################\")\n",
    "print(\"mae at the 300th epoch: \",err[0][2][300])\n",
    "print(\"mse at the 300th epoch: \",err[0][0][300])\n",
    "print(\"rmse at the 300th epoch: \",err[0][1][300])\n",
    "print(\"################\")\n",
    "print(\"mae at the 400th epoch: \",err[0][2][400])\n",
    "print(\"mse at the 400th epoch: \",err[0][0][400])\n",
    "print(\"rmse at the 400th epoch: \",err[0][1][400])\n",
    "print(\"################\")\n",
    "print(\"mae at the 500th epoch: \",err[0][2][499])\n",
    "print(\"mse at the 500th epoch: \",err[0][0][499])\n",
    "print(\"rmse at the 500th epoch: \",err[0][1][499])\n"
   ]
  },
  {
   "attachments": {},
   "cell_type": "markdown",
   "metadata": {},
   "source": [
    "Conclusion: We can save it like that. Difference of performance metrics between train and test is low."
   ]
  },
  {
   "cell_type": "code",
   "execution_count": 58,
   "metadata": {},
   "outputs": [],
   "source": [
    "np.savez(\"model/item_representation.npz\", V)\n",
    "np.savez(\"model/user_representation.npz\", U)"
   ]
  },
  {
   "cell_type": "code",
   "execution_count": 59,
   "metadata": {},
   "outputs": [],
   "source": [
    "def model_collaborative_pred(user_id, return_rated_ind=False):\n",
    "        import pandas as pd\n",
    "        import numpy as np\n",
    "        from numpy.linalg import lstsq\n",
    "        import pickle\n",
    "        from scipy import sparse\n",
    "\n",
    "        matrix = sparse.load_npz('model/ui_matrix.npz')\n",
    "\n",
    "        with open('model/required_data/user_id_encoding.pickle', 'rb') as file:\n",
    "            user_id_encoding = pickle.load(file)\n",
    "\n",
    "        user_representation = np.load('model/user_representation.npz')\n",
    "        predicted_ratings = (U[user_id_encoding[user_id]] * V).sum(1)\n",
    "\n",
    "        user_nonzero_rated_anm_ids =  matrix[user_id_encoding[user_id]].nonzero()\n",
    "        if return_rated_ind: # also return the already rated items\n",
    "            return predicted_ratings, user_nonzero_rated_anm_ids[1]\n",
    "        else:\n",
    "            return predicted_ratings"
   ]
  },
  {
   "attachments": {},
   "cell_type": "markdown",
   "metadata": {},
   "source": [
    "## Comparing"
   ]
  },
  {
   "attachments": {},
   "cell_type": "markdown",
   "metadata": {},
   "source": [
    "CAN'T EVEN RUN THIS BECAUSE SURPRISE LIBRARY HANDLES DATA INEFFICINETLY,<br>\n",
    "DATA WON'T FIT INTO RAM"
   ]
  },
  {
   "cell_type": "code",
   "execution_count": 60,
   "metadata": {},
   "outputs": [],
   "source": [
    "# from surprise import Dataset\n",
    "# from surprise import Reader\n",
    "# from surprise import SVD\n",
    "\n",
    "# # Define the reader object\n",
    "# reader = Reader(line_format='user item rating', sep=',', skip_lines=1)\n",
    "\n",
    "# # Load the data into a Dataset object\n",
    "# data = Dataset.load_from_file('model_building_variables/ratings_preprocessed.csv', reader=reader)\n",
    "# algo = SVD()\n",
    "# algo.fit(trainset)"
   ]
  },
  {
   "cell_type": "code",
   "execution_count": 61,
   "metadata": {},
   "outputs": [
    {
     "name": "stdout",
     "output_type": "stream",
     "text": [
      "= FOR SURPSISE =\n",
      "RMSE: 0.279\n",
      "MSE: 0.078\n",
      "MAE: 0.202\n",
      "= MY ALGO =\n",
      "RMSE: 0.289\n",
      "MSE: 0.084\n",
      "MAE: 0.213\n"
     ]
    }
   ],
   "source": [
    "from surprise import Dataset\n",
    "from surprise import Reader\n",
    "from surprise import SVD\n",
    "from surprise import accuracy\n",
    "from surprise.model_selection import train_test_split\n",
    "import pandas as pd\n",
    "\n",
    "# Define the reader object\n",
    "reader = Reader(rating_scale=(0,1))\n",
    "\n",
    "\n",
    "ratings = pd.read_csv('model_building_variables/ratings_preprocessed.csv')\n",
    "ratings.rename(columns={'user_id':'userId', 'anime_id':'movieId', 'rating':'rating'}, inplace=True)\n",
    "ratings = ratings.sample(frac=0.001) # take a small piece of the data\n",
    "\n",
    "# Load the data into a Dataset object\n",
    "data = Dataset.load_from_df(ratings, reader=reader)\n",
    "algo = SVD() # will use funk svd\n",
    "\n",
    "# Split the data into a training set and a test set\n",
    "trainset, testset = train_test_split(data, test_size=0.25)\n",
    "\n",
    "# Train the model using the SVD algorithm\n",
    "algo = SVD()\n",
    "algo.fit(trainset)\n",
    "\n",
    "# Make predictions on the test set and calculate the RMSE\n",
    "predictions = algo.test(testset)\n",
    "\n",
    "print('= FOR SURPSISE =')\n",
    "rmse = accuracy.rmse(predictions, verbose=False)\n",
    "mse = accuracy.mse(predictions, verbose=False)\n",
    "mae = accuracy.mae(predictions, verbose=False)\n",
    "print(f'RMSE: {rmse:.3f}')\n",
    "print(f'MSE: {mse:.3f}')\n",
    "print(f'MAE: {mae:.3f}')\n",
    "\n",
    "print('= MY ALGO =')\n",
    "print(f'RMSE: {rmse_error:.3f}')\n",
    "print(f'MSE: {mse_error:.3f}')\n",
    "print(f'MAE: {mae_error:.3f}')\n"
   ]
  },
  {
   "attachments": {},
   "cell_type": "markdown",
   "metadata": {},
   "source": [
    "Not bad, similar results (a bit worse)  with SVD"
   ]
  },
  {
   "cell_type": "markdown",
   "metadata": {},
   "source": [
    "## <b>4 - Building Hybrid Filter / Define Recommendation Functions</b>"
   ]
  },
  {
   "cell_type": "markdown",
   "metadata": {},
   "source": [
    "### 4.a Defining Functions For Content Based Filtering"
   ]
  },
  {
   "cell_type": "code",
   "execution_count": 82,
   "metadata": {},
   "outputs": [],
   "source": [
    "def get_meta(name: str):\n",
    "    import pandas as pd\n",
    "    if 'animes' not in globals().keys():\n",
    "        animes = pd.read_csv(\"model/required_data/animes_preprocessed.csv\")\n",
    "    else:\n",
    "        animes = globals()['animes']\n",
    "\n",
    "    a = animes[animes['name'].str.lower() == name.lower()]\n",
    "    if len(a.index)!= 0:\n",
    "            a = a.iloc[0]\n",
    "    else:\n",
    "        try:\n",
    "            a = animes[animes.name.str.lower().str.contains(name.lower(),\n",
    "             regex=False)].iloc[0]\n",
    "        except IndexError:\n",
    "            print('anime not found')\n",
    "            return -1\n",
    "    \n",
    "    return (a['name'], a['meta_combined'])\n",
    "\n",
    "def get_synopsis(name: str):\n",
    "    import pandas as pd\n",
    "    if 'animes' not in globals().keys():\n",
    "        animes = pd.read_csv(\"model/required_data/animes_preprocessed.csv\")\n",
    "    else:\n",
    "        animes = globals()['animes']\n",
    "\n",
    "    a = animes[animes['name'].str.lower() == name.lower()]\n",
    "    if len(a.index)!= 0:\n",
    "            a = a.iloc[0]\n",
    "    else:\n",
    "        try:\n",
    "            a = animes[animes.name.str.lower().str.contains(name.lower(),\n",
    "             regex=False)].iloc[0]\n",
    "        except IndexError:\n",
    "            print('anime not found')\n",
    "            return -1\n",
    "    \n",
    "    return (a['name'], a['synopsis'])\n",
    "\n",
    "def get_recommendations_content_based(name: str):\n",
    "    import numpy as np\n",
    "    import pandas as pd\n",
    "    if 'animes' not in globals().keys():\n",
    "        animes = pd.read_csv(\"model/required_data/animes_preprocessed.csv\")\n",
    "    else:\n",
    "        animes = globals()['animes']\n",
    "    \n",
    "    if 'cosine_sim' not in globals().keys():\n",
    "        cosine_sim = np.load(\"model/anime_similarity_matrix.npy\")\n",
    "    else:\n",
    "        cosine_sim = globals()['cosine_sim']\n",
    "\n",
    "    a = animes[animes['name'].str.lower() == name.lower()]\n",
    "    if len(a.index)!= 0:\n",
    "            a = a.iloc[0]\n",
    "    else:\n",
    "        try:\n",
    "            a = animes[animes.name.str.lower().str.contains(name.lower(),\n",
    "             regex=False)].iloc[0]\n",
    "        except IndexError:\n",
    "            print('anime not found')\n",
    "            return -1\n",
    "    \n",
    "    print(f\"recommendations for {a['name']}:\")\n",
    "    print(\"\\n\\n\")\n",
    "    id_encoded = a.anime_id\n",
    "    similarities_vector = cosine_sim[id_encoded]\n",
    "    ind = np.argpartition(similarities_vector, -11)[-11:]\n",
    "    for enc_anm_id in np.flip(ind[np.argsort(similarities_vector[ind])])[1:]:\n",
    "        err  = round(1-similarities_vector[enc_anm_id],3)\n",
    "        print(animes.name[animes.anime_id == enc_anm_id].iloc[0],\"-->\", \"with an error of\", err)\n",
    "    \n",
    "    return 0\n",
    "    \n",
    "def get_recommendations_multiple_content_based(names: tuple[str], num_of_animes: int):\n",
    "    import numpy as np\n",
    "    import pandas as pd\n",
    "    if 'animes' not in globals().keys():\n",
    "        animes = pd.read_csv(\"model/required_data/animes_preprocessed.csv\")\n",
    "    else:\n",
    "        animes = globals()['animes']\n",
    "    \n",
    "    if 'cosine_sim' not in globals().keys():\n",
    "        cosine_sim = np.load(\"model/anime_similarity_matrix.npy\")\n",
    "    else:\n",
    "        cosine_sim = globals()['cosine_sim']\n",
    "\n",
    "    input_anime_names = list()\n",
    "    for name in names:\n",
    "        a = animes[animes['name'].str.lower() == name.lower()]\n",
    "        if len(a.index)!= 0:\n",
    "                a = a.iloc[0]\n",
    "        else:\n",
    "            try:\n",
    "                a = animes[animes.name.str.lower().str.contains(name.lower(),\n",
    "                regex=False)].iloc[0]\n",
    "            except IndexError:\n",
    "                print('anime not found')\n",
    "                return -1\n",
    "            \n",
    "        input_anime_names.append(a)\n",
    "    \n",
    "    name_str = \"[\"+'\\n'.join([a['name'] for a in input_anime_names]) + \"]\\n\"\n",
    "    print(\"recommendations for:\\n\", name_str)\n",
    "    print(\"\\n\\n\\n\")\n",
    "\n",
    "    id_encoded = np.array([a.anime_id for a in input_anime_names])\n",
    "    similarities_vector = cosine_sim[id_encoded].mean(axis=0)\n",
    "    \n",
    "    ind = np.argsort(similarities_vector)\n",
    "    ind = np.setdiff1d(ind, id_encoded)\n",
    "\n",
    "    for enc_anm_id in np.flip(ind[np.argsort(similarities_vector[ind])])[:num_of_animes]:\n",
    "        err  = round(1-similarities_vector[enc_anm_id],3)\n",
    "        print(animes.name[animes.anime_id == enc_anm_id].iloc[0],\"-->\", \"with an error of\", err)\n",
    "    \n",
    "    return 0\n",
    "    "
   ]
  },
  {
   "cell_type": "markdown",
   "metadata": {},
   "source": [
    "### 4.b Defining Functions For Collaborative Based Filtering"
   ]
  },
  {
   "cell_type": "code",
   "execution_count": 63,
   "metadata": {},
   "outputs": [],
   "source": [
    "def get_recommendations_collaborative_based(user_id, num_of_animes, return_animes=False, print_rating=False):\n",
    "    import numpy as np\n",
    "    import pandas as pd\n",
    "    \n",
    "    try: \n",
    "        predictions, rated_index = model_collaborative_pred(user_id=user_id, return_rated_ind=True)\n",
    "    except Exception as e:\n",
    "        print('user_id not found.')\n",
    "        print(e)\n",
    "        return -1\n",
    "\n",
    "    mask = np.ones(len(predictions), bool)\n",
    "    mask[rated_index] = 0\n",
    "\n",
    "    ind = (-predictions).argsort()\n",
    "    ind = ind[mask]\n",
    "    ind = ind[:num_of_animes]\n",
    "\n",
    "\n",
    "    animes = pd.read_csv('model/required_data/animes_preprocessed.csv')\n",
    "\n",
    "    animes = animes[animes.anime_id.isin(ind)]\n",
    "    print(\"Recommending anime for user: \", user_id, end=\"\\n\\n\")\n",
    "    for i in ind:\n",
    "        print(f\"{animes.loc[i, 'name']}\")\n",
    "        if print_rating:\n",
    "            print(f\"with expected rating of: {predictions[i]*10}\")\n",
    "    \n",
    "    if return_animes:\n",
    "        return animes\n",
    "\n",
    "def get_fav_animes(user_id, num_of_anime, return_animes=False, print_rating=False):\n",
    "    import numpy as np\n",
    "    import pandas as pd\n",
    "    import pickle\n",
    "    from scipy import sparse\n",
    "    \n",
    "    matrix = sparse.load_npz('model/ui_matrix.npz')\n",
    "    anime_df = pd.read_csv('model/required_data/animes_preprocessed.csv')\n",
    "\n",
    "    \n",
    "    with open('model/required_data/user_id_encoding.pickle', 'rb') as file:\n",
    "        user_id_encoding = pickle.load(file)\n",
    "    \n",
    "    try:\n",
    "        user_rating_vector = matrix[user_id_encoding[user_id]].toarray().flatten()\n",
    "    except KeyError:\n",
    "        print(\"User not found\")\n",
    "        return -1\n",
    "\n",
    "    ind = (-user_rating_vector).argsort()[:num_of_anime]\n",
    "\n",
    "    animes = pd.read_csv('model/required_data/animes_preprocessed.csv')\n",
    "\n",
    "    animes = animes[animes.anime_id.isin(ind)]\n",
    "    for i in ind:\n",
    "        print(f\"Favorite anime: {animes.loc[i, 'name']}\")\n",
    "        if print_rating:\n",
    "            print(f\"with rating of: {user_rating_vector[i]*10}\")\n",
    "    \n",
    "    if return_animes:\n",
    "        return animes\n"
   ]
  },
  {
   "attachments": {},
   "cell_type": "markdown",
   "metadata": {},
   "source": [
    "### 4.c Defining Hybrid Filtering"
   ]
  },
  {
   "cell_type": "code",
   "execution_count": 64,
   "metadata": {},
   "outputs": [],
   "source": [
    "def hybrid(user_id, animes: tuple, num_of_animes=10):\n",
    "    \"\"\"Switch style recommendation system\"\"\"\n",
    "\n",
    "    import pickle\n",
    "    with open('model/required_data/user_id_encoding.pickle', 'rb') as file:\n",
    "        user_id_encoding = pickle.load(file)\n",
    "\n",
    "    cond = user_id in user_id_encoding.keys()\n",
    "    if cond:\n",
    "        get_recommendations_collaborative_based(user_id=user_id, num_of_animes=num_of_animes)\n",
    "    elif len(animes) == 0:\n",
    "        print(\"User ID is not in the database.\")\n",
    "        print(\"Model hasn't got knowledge about the user.\")\n",
    "        print(\"Please specify contents.\")\n",
    "        return -1\n",
    "    else:\n",
    "        get_recommendations_multiple_content_based(animes, num_of_animes=num_of_animes)\n"
   ]
  },
  {
   "cell_type": "markdown",
   "metadata": {},
   "source": [
    "## <b>5 - Using The Main Program</b>"
   ]
  },
  {
   "cell_type": "code",
   "execution_count": 65,
   "metadata": {},
   "outputs": [
    {
     "name": "stdout",
     "output_type": "stream",
     "text": [
      "recommendations for Naruto:\n",
      "\n",
      "\n",
      "\n",
      "Naruto: Shippuuden --> with an error of 0.228\n",
      "Boruto: Naruto Next Generations --> with an error of 0.362\n",
      "Naruto: Shippuuden Movie 6 - Road to Ninja --> with an error of 0.448\n",
      "Boruto: Naruto the Movie --> with an error of 0.481\n",
      "Naruto: Shippuuden Movie 4 - The Lost Tower --> with an error of 0.482\n",
      "Naruto: Shippuuden Movie 5 - Blood Prison --> with an error of 0.506\n",
      "Saint Seiya: The Lost Canvas - Meiou Shinwa 2 --> with an error of 0.522\n",
      "Naruto: Takigakure no Shitou - Ore ga Eiyuu Dattebayo! --> with an error of 0.524\n",
      "Naruto Soyokazeden Movie: Naruto to Mashin to Mitsu no Onegai Dattebayo!! --> with an error of 0.53\n",
      "Duel Masters VS --> with an error of 0.53\n"
     ]
    },
    {
     "data": {
      "text/plain": [
       "0"
      ]
     },
     "execution_count": 65,
     "metadata": {},
     "output_type": "execute_result"
    }
   ],
   "source": [
    "get_recommendations_content_based(\"Naruto\")\n"
   ]
  },
  {
   "cell_type": "code",
   "execution_count": 66,
   "metadata": {},
   "outputs": [
    {
     "name": "stdout",
     "output_type": "stream",
     "text": [
      "recommendations for Dragon Ball Z:\n",
      "\n",
      "\n",
      "\n",
      "Dragon Ball Z: Zenbu Misemasu Toshi Wasure Dragon Ball Z! --> with an error of 0.325\n",
      "Dragon Ball Kai --> with an error of 0.419\n",
      "Dragon Ball Z Movie 14: Kami to Kami --> with an error of 0.465\n",
      "Dragon Ball GT --> with an error of 0.49\n",
      "Dragon Ball --> with an error of 0.506\n",
      "One Piece Film: Strong World --> with an error of 0.531\n",
      "One Piece --> with an error of 0.552\n",
      "Kizuna Ichigeki --> with an error of 0.559\n",
      "Dragon Ball Kai: Mirai ni Heiwa wo! Goku no Tamashii yo Eien ni --> with an error of 0.562\n",
      "Saint Seiya: The Lost Canvas - Meiou Shinwa 2 --> with an error of 0.572\n"
     ]
    },
    {
     "data": {
      "text/plain": [
       "0"
      ]
     },
     "execution_count": 66,
     "metadata": {},
     "output_type": "execute_result"
    }
   ],
   "source": [
    "get_recommendations_content_based(\"Dragon Ball Z\")"
   ]
  },
  {
   "cell_type": "code",
   "execution_count": 67,
   "metadata": {},
   "outputs": [
    {
     "name": "stdout",
     "output_type": "stream",
     "text": [
      "recommendations for Kizuna Ichigeki:\n",
      "\n",
      "\n",
      "\n",
      "Dragon Ball Z: Zenbu Misemasu Toshi Wasure Dragon Ball Z! --> with an error of 0.524\n",
      "Dragon Ball Z --> with an error of 0.559\n",
      "Manga --> with an error of 0.705\n",
      "Kemeko no Love --> with an error of 0.705\n",
      "Dekobou Shingachou: Meian no Shippai --> with an error of 0.705\n",
      "Pop --> with an error of 0.705\n",
      "Kitte no Gensou --> with an error of 0.705\n",
      "Ooatari Sora no Entaku --> with an error of 0.705\n",
      "Imokawa Mukuzo: Chuugaeri no Maki --> with an error of 0.705\n",
      "Tengu Taiji --> with an error of 0.705\n"
     ]
    },
    {
     "data": {
      "text/plain": [
       "0"
      ]
     },
     "execution_count": 67,
     "metadata": {},
     "output_type": "execute_result"
    }
   ],
   "source": [
    "get_recommendations_content_based(\"Kizuna Ichigeki\")\n"
   ]
  },
  {
   "cell_type": "code",
   "execution_count": 68,
   "metadata": {},
   "outputs": [
    {
     "data": {
      "text/plain": [
       "('Kizuna Ichigeki',\n",
       " 'ascension imagine comedy martialarts comedy martialarts movie original kizuna kizuna kizuna tournament tournament tournament todoroki todoroki todoroki martial martial martial arts arts reporter reporter world world grandfather grandfather winning winning winnings')"
      ]
     },
     "execution_count": 68,
     "metadata": {},
     "output_type": "execute_result"
    }
   ],
   "source": [
    "get_meta(\"Kizuna Ichigeki\")"
   ]
  },
  {
   "cell_type": "code",
   "execution_count": 69,
   "metadata": {},
   "outputs": [
    {
     "name": "stdout",
     "output_type": "stream",
     "text": [
      "Recommending anime for user:  11\n",
      "\n",
      "Tezuka Osamu ga Kieta?! 20 Seiki Saigo no Kaijiken\n",
      "Kochira Katsushikaku Kameari Kouenmae Hashutsujo: The Final - Ryoutsu Kakichi Saigo no Hi\n",
      "gdgd Fairies Movie: tte Iu Eiga wa Dou kana...?\n",
      "Daisetsusan no Yuusha Kibaou\n",
      "Tantei Opera Milky Holmes: Psycho no Aisatsu\n",
      "Yousei Hime Ren\n",
      "Chao Zhi Neng Zu Qiu\n",
      "Otousan wa Ai no Hito\n",
      "Ma Shen\n",
      "Sinbad: Mahiru no Yoru to Fushigi no Mon\n"
     ]
    }
   ],
   "source": [
    "get_recommendations_collaborative_based(11, 10)"
   ]
  },
  {
   "cell_type": "code",
   "execution_count": 70,
   "metadata": {},
   "outputs": [
    {
     "name": "stdout",
     "output_type": "stream",
     "text": [
      "Favorite anime: Servant x Service\n",
      "Favorite anime: Working'!!\n",
      "Favorite anime: Working!!\n",
      "Favorite anime: Ao no Exorcist\n",
      "Favorite anime: Kyoukai no Kanata\n",
      "Favorite anime: Log Horizon\n",
      "Favorite anime: Kami nomi zo Shiru Sekai: Megami-hen\n",
      "Favorite anime: Date A Live\n",
      "Favorite anime: Shijou Saikyou no Deshi Kenichi\n",
      "Favorite anime: Gekkan Shoujo Nozaki-kun\n"
     ]
    }
   ],
   "source": [
    "get_fav_animes(11, 10)"
   ]
  },
  {
   "cell_type": "code",
   "execution_count": 71,
   "metadata": {},
   "outputs": [
    {
     "name": "stdout",
     "output_type": "stream",
     "text": [
      "recommendations for Ao no Exorcist:\n",
      "\n",
      "\n",
      "\n",
      "Ao no Exorcist: Kyoto Fujouou-hen --> with an error of 0.461\n",
      "Bakegyamon --> with an error of 0.597\n",
      "Kuroshitsuji --> with an error of 0.61\n",
      "Ao no Exorcist: Kuro no Iede --> with an error of 0.623\n",
      "Enen no Shouboutai: Ni no Shou --> with an error of 0.625\n",
      "Gensoumaden Saiyuuki --> with an error of 0.626\n",
      "Luger Code 1951 --> with an error of 0.629\n",
      "Shounen Sunday CM Gekijou: InuYasha-hen --> with an error of 0.632\n",
      "Shingeki no Bahamut: Virgin Soul --> with an error of 0.644\n",
      "Amatsuki --> with an error of 0.646\n"
     ]
    },
    {
     "data": {
      "text/plain": [
       "0"
      ]
     },
     "execution_count": 71,
     "metadata": {},
     "output_type": "execute_result"
    }
   ],
   "source": [
    "get_recommendations_content_based(\"Ao no Exorcist\")"
   ]
  },
  {
   "cell_type": "code",
   "execution_count": 83,
   "metadata": {},
   "outputs": [
    {
     "name": "stdout",
     "output_type": "stream",
     "text": [
      "recommendations for:\n",
      " [Dragon Ball Kai\n",
      "One Piece\n",
      "Duel Masters VS]\n",
      "\n",
      "\n",
      "\n",
      "\n",
      "\n",
      "Duel Masters! --> with an error of 0.372\n",
      "Duel Masters Cross --> with an error of 0.405\n",
      "One Piece Film: Strong World --> with an error of 0.411\n",
      "Duel Masters Cross Shock --> with an error of 0.42\n",
      "Moeru! Oniisan --> with an error of 0.487\n",
      "One Piece Film: Z --> with an error of 0.491\n",
      "Wellber no Monogatari: Kanashimi no Senshi Galahad no Banka --> with an error of 0.498\n",
      "Arad Senki: Slap Up Party --> with an error of 0.503\n",
      "Allison to Lillia --> with an error of 0.506\n",
      "Lupin III: Honoo no Kioku - Tokyo Crisis --> with an error of 0.508\n"
     ]
    }
   ],
   "source": [
    "hybrid(11213312, ('Dragon Ball Kai', 'One Piece', 'Duel Masters VS'), num_of_animes=10)"
   ]
  },
  {
   "cell_type": "code",
   "execution_count": 80,
   "metadata": {},
   "outputs": [
    {
     "name": "stdout",
     "output_type": "stream",
     "text": [
      "Recommending anime for user:  1\n",
      "\n",
      "Bem Movie: Become Human\n",
      "Barbapapa\n",
      "Shanhe Jian Xin\n",
      "Araiguma Rascal\n",
      "Aoki Ryuusei SPT Layzner OVA\n",
      "Balloon (Music)\n",
      "Soosee no Aquarion: Dai 27-wa Parallel-ban\n",
      "Kirakira☆Precure A La Mode Movie: Paritto! Omoide no Mille-Feuille!\n",
      "Inakappe Taishou\n",
      "A-jang.com\n"
     ]
    }
   ],
   "source": [
    "hybrid(1, ('Dragon Ball Kai', 'One Piece', 'Duel Masters VS'), num_of_animes=10)"
   ]
  },
  {
   "cell_type": "code",
   "execution_count": 74,
   "metadata": {},
   "outputs": [
    {
     "name": "stdout",
     "output_type": "stream",
     "text": [
      "User ID is not in the database.\n",
      "Model hasn't got knowledge about the user.\n",
      "Please specify contents.\n"
     ]
    },
    {
     "data": {
      "text/plain": [
       "-1"
      ]
     },
     "execution_count": 74,
     "metadata": {},
     "output_type": "execute_result"
    }
   ],
   "source": [
    "hybrid(11213312, (), num_of_animes=10)"
   ]
  },
  {
   "cell_type": "code",
   "execution_count": null,
   "metadata": {},
   "outputs": [],
   "source": []
  }
 ],
 "metadata": {
  "kernelspec": {
   "display_name": "Python 3 (ipykernel)",
   "language": "python",
   "name": "python3"
  },
  "language_info": {
   "codemirror_mode": {
    "name": "ipython",
    "version": 3
   },
   "file_extension": ".py",
   "mimetype": "text/x-python",
   "name": "python",
   "nbconvert_exporter": "python",
   "pygments_lexer": "ipython3",
   "version": "3.10.0"
  },
  "vscode": {
   "interpreter": {
    "hash": "962108172c7d37cc7f406e874d70700554b701f9d4fddde2ee9c82cee43c72c9"
   }
  }
 },
 "nbformat": 4,
 "nbformat_minor": 2
}
