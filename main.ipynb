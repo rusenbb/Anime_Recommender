{
 "cells": [
  {
   "cell_type": "markdown",
   "metadata": {},
   "source": [
    "# Anime Recommender System Using Hybrid Filter\n",
    "<b>Muhammed Rüşen Birben 150220755</b>"
   ]
  },
  {
   "cell_type": "markdown",
   "metadata": {},
   "source": [
    "## <b>1 - Data Preparing and Understanding</b>"
   ]
  },
  {
   "cell_type": "markdown",
   "metadata": {},
   "source": [
    "### <b>1.a Preparing Anime Info Dataframes</b>"
   ]
  },
  {
   "cell_type": "markdown",
   "metadata": {},
   "source": [
    "#### Importing pandas and reading anime csv files"
   ]
  },
  {
   "cell_type": "code",
   "execution_count": 57,
   "metadata": {},
   "outputs": [],
   "source": [
    "import pandas as pd\n",
    "import numpy as np\n",
    "anime_synopsis = pd.read_csv(\"data_raw/data/anime_with_synopsis.csv\")\n",
    "anime_df = pd.read_csv(\"data_raw/data/anime.csv\")"
   ]
  },
  {
   "cell_type": "markdown",
   "metadata": {},
   "source": [
    "#### Getting info for both dfs"
   ]
  },
  {
   "cell_type": "code",
   "execution_count": 58,
   "metadata": {},
   "outputs": [
    {
     "name": "stdout",
     "output_type": "stream",
     "text": [
      "<class 'pandas.core.frame.DataFrame'>\n",
      "RangeIndex: 17562 entries, 0 to 17561\n",
      "Data columns (total 35 columns):\n",
      " #   Column         Non-Null Count  Dtype \n",
      "---  ------         --------------  ----- \n",
      " 0   MAL_ID         17562 non-null  int64 \n",
      " 1   Name           17562 non-null  object\n",
      " 2   Score          17562 non-null  object\n",
      " 3   Genres         17562 non-null  object\n",
      " 4   English name   17562 non-null  object\n",
      " 5   Japanese name  17562 non-null  object\n",
      " 6   Type           17562 non-null  object\n",
      " 7   Episodes       17562 non-null  object\n",
      " 8   Aired          17562 non-null  object\n",
      " 9   Premiered      17562 non-null  object\n",
      " 10  Producers      17562 non-null  object\n",
      " 11  Licensors      17562 non-null  object\n",
      " 12  Studios        17562 non-null  object\n",
      " 13  Source         17562 non-null  object\n",
      " 14  Duration       17562 non-null  object\n",
      " 15  Rating         17562 non-null  object\n",
      " 16  Ranked         17562 non-null  object\n",
      " 17  Popularity     17562 non-null  int64 \n",
      " 18  Members        17562 non-null  int64 \n",
      " 19  Favorites      17562 non-null  int64 \n",
      " 20  Watching       17562 non-null  int64 \n",
      " 21  Completed      17562 non-null  int64 \n",
      " 22  On-Hold        17562 non-null  int64 \n",
      " 23  Dropped        17562 non-null  int64 \n",
      " 24  Plan to Watch  17562 non-null  int64 \n",
      " 25  Score-10       17562 non-null  object\n",
      " 26  Score-9        17562 non-null  object\n",
      " 27  Score-8        17562 non-null  object\n",
      " 28  Score-7        17562 non-null  object\n",
      " 29  Score-6        17562 non-null  object\n",
      " 30  Score-5        17562 non-null  object\n",
      " 31  Score-4        17562 non-null  object\n",
      " 32  Score-3        17562 non-null  object\n",
      " 33  Score-2        17562 non-null  object\n",
      " 34  Score-1        17562 non-null  object\n",
      "dtypes: int64(9), object(26)\n",
      "memory usage: 4.7+ MB\n"
     ]
    }
   ],
   "source": [
    "anime_df.info()"
   ]
  },
  {
   "cell_type": "code",
   "execution_count": null,
   "metadata": {},
   "outputs": [
    {
     "name": "stdout",
     "output_type": "stream",
     "text": [
      "<class 'pandas.core.frame.DataFrame'>\n",
      "RangeIndex: 16214 entries, 0 to 16213\n",
      "Data columns (total 5 columns):\n",
      " #   Column     Non-Null Count  Dtype \n",
      "---  ------     --------------  ----- \n",
      " 0   MAL_ID     16214 non-null  int64 \n",
      " 1   Name       16214 non-null  object\n",
      " 2   Score      16214 non-null  object\n",
      " 3   Genres     16214 non-null  object\n",
      " 4   sypnopsis  16206 non-null  object\n",
      "dtypes: int64(1), object(4)\n",
      "memory usage: 633.5+ KB\n"
     ]
    }
   ],
   "source": [
    "anime_synopsis.info()"
   ]
  },
  {
   "cell_type": "markdown",
   "metadata": {},
   "source": [
    "#### Dropping duplicates for both"
   ]
  },
  {
   "cell_type": "code",
   "execution_count": null,
   "metadata": {},
   "outputs": [
    {
     "name": "stdout",
     "output_type": "stream",
     "text": [
      "Before anime 17562\n",
      "After anime 17562\n",
      "Before anime_synopsis 16214\n",
      "After anime_synopsis 16214\n"
     ]
    }
   ],
   "source": [
    "before = len(anime_df.index)\n",
    "anime_df.drop_duplicates(inplace=True)\n",
    "after = len(anime_df.index)\n",
    "print(f\"Before anime {before}\\nAfter anime {after}\")\n",
    "\n",
    "before = len(anime_synopsis.index)\n",
    "anime_synopsis.drop_duplicates(inplace=True)\n",
    "after = len(anime_synopsis.index)\n",
    "print(f\"Before anime_synopsis {before}\\nAfter anime_synopsis {after}\")\n",
    "del after, before"
   ]
  },
  {
   "cell_type": "markdown",
   "metadata": {},
   "source": [
    "#### Renaming columns of dfs"
   ]
  },
  {
   "cell_type": "code",
   "execution_count": null,
   "metadata": {},
   "outputs": [
    {
     "name": "stdout",
     "output_type": "stream",
     "text": [
      "Index(['MAL_ID', 'Name', 'Score', 'Genres', 'English name', 'Japanese name',\n",
      "       'Type', 'Episodes', 'Aired', 'Premiered', 'Producers', 'Licensors',\n",
      "       'Studios', 'Source', 'Duration', 'Rating', 'Ranked', 'Popularity',\n",
      "       'Members', 'Favorites', 'Watching', 'Completed', 'On-Hold', 'Dropped',\n",
      "       'Plan to Watch', 'Score-10', 'Score-9', 'Score-8', 'Score-7', 'Score-6',\n",
      "       'Score-5', 'Score-4', 'Score-3', 'Score-2', 'Score-1'],\n",
      "      dtype='object')\n",
      "Index(['anime_id', 'name', 'score', 'genres', 'english_name', 'japanese_name',\n",
      "       'type', 'episodes', 'aired', 'premiered', 'producers', 'licensors',\n",
      "       'studios', 'source', 'duration', 'rating', 'ranked', 'popularity',\n",
      "       'members', 'favorites', 'watching', 'completed', 'on_hold', 'dropped',\n",
      "       'plan_to_watch', 'score_10', 'score_9', 'score_8', 'score_7', 'score_6',\n",
      "       'score_5', 'score_4', 'score_3', 'score_2', 'score_1'],\n",
      "      dtype='object')\n"
     ]
    }
   ],
   "source": [
    "print(anime_df.columns)\n",
    "anime_df.rename(columns={\"English name\":\"english_name\", \"Japanese name\":\"japanese_name\",\n",
    " \"On-Hold\":\"on_hold\", \"Plan to Watch\":\"plan_to_watch\", \"MAL_ID\":\"anime_id\"}, inplace=True)\n",
    "anime_df.rename(columns={i:i.replace(\"-\",\"_\") for i in anime_df.columns}, inplace=True)\n",
    "anime_df.rename(columns={i:i.lower() for i in anime_df.columns}, inplace=True)\n",
    "print(anime_df.columns)"
   ]
  },
  {
   "cell_type": "code",
   "execution_count": null,
   "metadata": {},
   "outputs": [
    {
     "name": "stdout",
     "output_type": "stream",
     "text": [
      "Index(['MAL_ID', 'Name', 'Score', 'Genres', 'sypnopsis'], dtype='object')\n",
      "Feature num:  5\n",
      "Index(['anime_id', 'name', 'score', 'genres', 'synopsis'], dtype='object')\n"
     ]
    }
   ],
   "source": [
    "print(anime_synopsis.columns)\n",
    "print(\"Feature num: \",anime_synopsis.shape[1])\n",
    "anime_synopsis.rename(columns={\"MAL_ID\":\"anime_id\", \"sypnopsis\":\"synopsis\"}, inplace=True)\n",
    "anime_synopsis.rename(columns={i:i.replace(\"-\",\"_\") for i in anime_synopsis.columns}, inplace=True)\n",
    "anime_synopsis.rename(columns={i:i.lower() for i in anime_synopsis.columns}, inplace=True)\n",
    "print(anime_synopsis.columns)"
   ]
  },
  {
   "cell_type": "markdown",
   "metadata": {},
   "source": [
    "#### Filter Adult Content"
   ]
  },
  {
   "cell_type": "code",
   "execution_count": null,
   "metadata": {},
   "outputs": [],
   "source": [
    "# will use adult_anime_ids for filtering the ratings of adult animes later on\n",
    "adult_anime_ids = anime_df[anime_df['rating'] == 'Rx - Hentai']['anime_id']\n",
    "anime_df = anime_df[anime_df['rating'] != 'Rx - Hentai']\n",
    "anime_synopsis = anime_synopsis[anime_synopsis.index.isin(anime_df.index)]"
   ]
  },
  {
   "cell_type": "markdown",
   "metadata": {},
   "source": [
    "#### Fill 'Unknown' With np.nan or Zero"
   ]
  },
  {
   "cell_type": "code",
   "execution_count": null,
   "metadata": {},
   "outputs": [],
   "source": [
    "to_int = [\"episodes\",\"ranked\",\"score_10\",\"score_9\",\"score_8\",\"score_7\",\"score_6\",\"score_5\",\"score_4\",\"score_3\",\"score_2\",\"score_1\"]\n",
    "to_float = [\"score\"]\n",
    "for i in to_int:\n",
    "    anime_df[i]= anime_df[i].apply(lambda x: 0 if x == \"Unknown\" else x)\n",
    "    anime_df[i] = anime_df[i].astype(float)\n",
    "    anime_df[i] = anime_df[i].astype(int)\n",
    "\n",
    "for i in to_float:\n",
    "    anime_df[i]= anime_df[i].apply(lambda x: np.nan if x == \"Unknown\" else x)\n",
    "    anime_df[i] = anime_df[i].astype(float)\n",
    "    anime_synopsis[i]= anime_synopsis[i].apply(lambda x: np.nan if x == \"Unknown\" else x)\n",
    "    anime_synopsis[i] = anime_synopsis[i].astype(float)\n",
    "\n",
    "del i, to_float, to_int"
   ]
  },
  {
   "cell_type": "markdown",
   "metadata": {},
   "source": [
    "#### Looking for na"
   ]
  },
  {
   "cell_type": "code",
   "execution_count": null,
   "metadata": {},
   "outputs": [
    {
     "data": {
      "text/plain": [
       "score    5124\n",
       "dtype: int64"
      ]
     },
     "execution_count": 9,
     "metadata": {},
     "output_type": "execute_result"
    }
   ],
   "source": [
    "anime_df.isna().sum()[anime_df.isna().sum() != 0] \n",
    "# Some score are missing"
   ]
  },
  {
   "cell_type": "code",
   "execution_count": null,
   "metadata": {},
   "outputs": [
    {
     "data": {
      "text/plain": [
       "score       4836\n",
       "synopsis       8\n",
       "dtype: int64"
      ]
     },
     "execution_count": 10,
     "metadata": {},
     "output_type": "execute_result"
    }
   ],
   "source": [
    "anime_synopsis.isna().sum()[anime_synopsis.isna().sum() != 0] \n",
    "# synopsis of some values are missing (and some scores)"
   ]
  },
  {
   "cell_type": "markdown",
   "metadata": {},
   "source": [
    "#### Saving as csv"
   ]
  },
  {
   "cell_type": "code",
   "execution_count": null,
   "metadata": {},
   "outputs": [],
   "source": [
    "anime_df.to_csv(\"data_cleansed/anime_info.csv\", index=False)\n",
    "anime_synopsis.to_csv(\"data_cleansed/anime_synopsis.csv\", index=False)\n",
    "del anime_synopsis\n",
    "del anime_df"
   ]
  },
  {
   "cell_type": "markdown",
   "metadata": {},
   "source": [
    "### <b>1.b Preparing Ratings Dataframe</b>"
   ]
  },
  {
   "cell_type": "markdown",
   "metadata": {},
   "source": [
    "#### Reading the rating dataset & dropping the duplicates"
   ]
  },
  {
   "cell_type": "code",
   "execution_count": null,
   "metadata": {},
   "outputs": [],
   "source": [
    "# A really large dataset, takes too long \n",
    "# (might even give an error depending on RAM)\n",
    "ratings = pd.read_csv(\"data_raw/data/animelist.csv\")\n",
    "ratings.drop_duplicates(inplace=True)"
   ]
  },
  {
   "cell_type": "markdown",
   "metadata": {},
   "source": [
    "#### Looking for info"
   ]
  },
  {
   "cell_type": "code",
   "execution_count": null,
   "metadata": {},
   "outputs": [
    {
     "name": "stdout",
     "output_type": "stream",
     "text": [
      "<class 'pandas.core.frame.DataFrame'>\n",
      "Int64Index: 109224746 entries, 0 to 109224746\n",
      "Data columns (total 5 columns):\n",
      " #   Column            Dtype\n",
      "---  ------            -----\n",
      " 0   user_id           int64\n",
      " 1   anime_id          int64\n",
      " 2   rating            int64\n",
      " 3   watching_status   int64\n",
      " 4   watched_episodes  int64\n",
      "dtypes: int64(5)\n",
      "memory usage: 4.9 GB\n"
     ]
    }
   ],
   "source": [
    "ratings.info() # column names seems good"
   ]
  },
  {
   "cell_type": "code",
   "execution_count": null,
   "metadata": {},
   "outputs": [
    {
     "data": {
      "text/plain": [
       "Series([], dtype: int64)"
      ]
     },
     "execution_count": 14,
     "metadata": {},
     "output_type": "execute_result"
    }
   ],
   "source": [
    "ratings.isna().sum()[ratings.isna().sum() != 0] # No feature with na in it"
   ]
  },
  {
   "cell_type": "markdown",
   "metadata": {},
   "source": [
    "#### Filtering Adult Anime Ratings"
   ]
  },
  {
   "cell_type": "code",
   "execution_count": null,
   "metadata": {},
   "outputs": [],
   "source": [
    "ratings = ratings[~ratings['anime_id'].isin(adult_anime_ids)]"
   ]
  },
  {
   "cell_type": "markdown",
   "metadata": {},
   "source": [
    "#### Saving rating files to cvs"
   ]
  },
  {
   "cell_type": "code",
   "execution_count": null,
   "metadata": {},
   "outputs": [],
   "source": [
    "# this one also takes too long (took me 8 min.)\n",
    "ratings.to_csv(\"data_cleansed/ratings_watch_inf.csv\", index=False)\n",
    "del ratings\n",
    "\n",
    "# rating complete consist of ratings that are given after watching the anime completely (watching_status==2)\n",
    "# this df is a subset of ratings.csv. But since I plan to use this df for my model I save this one as 'data_cleansed/rating.csv'\n",
    "# and the previous one as 'data_cleansed/ratings_watch_inf.csv'\n",
    "rating_status_comp = pd.read_csv('data_raw/data/rating_complete.csv')\n",
    "rating_status_comp.drop_duplicates(inplace=True)\n",
    "rating_status_comp = rating_status_comp[~rating_status_comp['anime_id'].isin(adult_anime_ids)]\n",
    "rating_status_comp.to_csv(\"data_cleansed/ratings.csv\", index=False)\n",
    "del rating_status_comp, adult_anime_ids"
   ]
  },
  {
   "cell_type": "markdown",
   "metadata": {},
   "source": [
    "### <b>1.c Reading watching status mapping csv</b>"
   ]
  },
  {
   "cell_type": "code",
   "execution_count": null,
   "metadata": {},
   "outputs": [],
   "source": [
    "df = pd.read_csv(\"data_raw/data/watching_status.csv\")"
   ]
  },
  {
   "cell_type": "code",
   "execution_count": null,
   "metadata": {
    "scrolled": true
   },
   "outputs": [
    {
     "name": "stdout",
     "output_type": "stream",
     "text": [
      "   status         description\n",
      "0       1  Currently Watching\n",
      "1       2           Completed\n",
      "2       3             On Hold\n",
      "3       4             Dropped\n",
      "4       6       Plan to Watch\n"
     ]
    }
   ],
   "source": [
    "print(df) # nothing to clear, can keep these in mind.\n",
    "# not worth copying to clensed_data folder\n",
    "del df"
   ]
  },
  {
   "cell_type": "markdown",
   "metadata": {},
   "source": [
    "## Cleansed Data Summary:"
   ]
  },
  {
   "cell_type": "code",
   "execution_count": null,
   "metadata": {},
   "outputs": [
    {
     "data": {
      "text/plain": [
       "['anime_info.csv',\n",
       " 'anime_synopsis.csv',\n",
       " 'ratings.csv',\n",
       " 'ratings_watch_inf.csv',\n",
       " 'user_item_matrix.npy']"
      ]
     },
     "execution_count": 19,
     "metadata": {},
     "output_type": "execute_result"
    }
   ],
   "source": [
    "import os\n",
    "os.listdir('data_cleansed')"
   ]
  },
  {
   "cell_type": "markdown",
   "metadata": {},
   "source": [
    " - <b>anime_info.csv:</b> consist of animes' detailed information like genre, studio, airing year, ratings number for each rate degree etc.<br>\n",
    " - <b>anime_synopsis.csv:</b> consist of basic info about anime like score and genre. But most importantly it includes the synopsis of anime. (Might use synopsis with term frequency algorithm. Or i might not use it, Haven't decided yet)<br>\n",
    " - <b>ratings.csv:</b> includes all of the ratings of users that are given for animes which user actually watched compleatly. (watching_status==2)<br>\n",
    " - <b>ratings_watch_inf.csv:</b> includes all of the ratings of users and their watched number of episodes and watching status for that rated anime. (Probably won't use, ratings.csv seems more reliable)<br>"
   ]
  },
  {
   "cell_type": "markdown",
   "metadata": {},
   "source": [
    "## <b>2 -  Data Preprocessing</b>"
   ]
  },
  {
   "cell_type": "markdown",
   "metadata": {},
   "source": [
    "### <b>2.a Reading Cleansed Anime and Rating CSVs, Importing Related Libraries</b>"
   ]
  },
  {
   "cell_type": "code",
   "execution_count": 28,
   "metadata": {},
   "outputs": [],
   "source": [
    "from matplotlib import pyplot as plt\n",
    "from scipy import stats\n",
    "from sklearn import preprocessing\n",
    "import seaborn as sns\n",
    "import numpy as np\n",
    "import pandas as pd\n",
    "sns.set()"
   ]
  },
  {
   "cell_type": "code",
   "execution_count": 29,
   "metadata": {},
   "outputs": [],
   "source": [
    "ratings = pd.read_csv('data_cleansed/ratings.csv')\n",
    "animes = pd.read_csv('data_cleansed/anime_info.csv')"
   ]
  },
  {
   "cell_type": "markdown",
   "metadata": {},
   "source": [
    "### <b>2.b Ratings: Removing Outlier Users' Ratings and Unpopular Anime's Ratings, Select Ratings and Normalize</b>"
   ]
  },
  {
   "cell_type": "markdown",
   "metadata": {},
   "source": [
    "#### Removing Outliers"
   ]
  },
  {
   "cell_type": "code",
   "execution_count": 30,
   "metadata": {},
   "outputs": [
    {
     "data": {
      "image/png": "[encoded data removed]",
      "text/plain": [
       "<Figure size 432x288 with 1 Axes>"
      ]
     },
     "metadata": {},
     "output_type": "display_data"
    }
   ],
   "source": [
    "# groupby('user_id').count() gives us each user's number of ratings.\n",
    "# If a user rated too many anime we consider them as outlier. They might be bots\n",
    "# Or the opposite is also true, some users are crazy enough to create fake accounts and\n",
    "# boost the anime they are fan of by giving high scores. We will eliminate them.\n",
    "plt.boxplot(ratings.user_id.value_counts())\n",
    "plt.show()\n",
    "# bad"
   ]
  },
  {
   "cell_type": "code",
   "execution_count": 31,
   "metadata": {},
   "outputs": [
    {
     "name": "stdout",
     "output_type": "stream",
     "text": [
      "Before outlier removal user num: 309486\n",
      "Before outlier removal rating num: 56727080\n",
      "Before outlier removal rated anime num:    15553\n",
      "########################################################\n",
      "####################   Outlier Removal   ###############\n",
      "########################################################\n",
      "After outlier removal user num: 289535\n",
      "After outlier removal rating num: 39653886\n",
      "After outlier removal rated anime num:    13530\n"
     ]
    }
   ],
   "source": [
    "# Detecting and filtering out outlier users \n",
    "# some users have more than necessary ratings (max user has 15000 ratings. might be even\n",
    "# a bot, or a real weeb :) and some have very few reviews. we don't want to include them.\n",
    "temp_df = ratings.user_id.value_counts() # df that holds num of rating for each user\n",
    "\n",
    "IQR = temp_df.quantile(q=0.75) - temp_df.quantile(q=0.25)\n",
    "u_bound = (temp_df.quantile(q=0.75) + 1.5*IQR)\n",
    "l_bound = (temp_df.quantile(q=0.25) - 1.5*IQR)\n",
    "outlier_filter = temp_df.between(left=l_bound, right=u_bound)\n",
    "\n",
    "\n",
    "print(f\"Before outlier removal user num: {len(temp_df.index)}\")\n",
    "print(f\"Before outlier removal rating num: {len(ratings.index)}\")\n",
    "print(f\"Before outlier removal rated anime num:\\\n",
    "    {len(ratings.anime_id.value_counts().index)}\")\n",
    "print(\"########################################################\")\n",
    "print(\"####################   Outlier Removal   ###############\")\n",
    "print(\"########################################################\")\n",
    "ratings = ratings[ratings['user_id'].isin((temp_df[outlier_filter]).index)] # filtering\n",
    "\n",
    "print(f\"After outlier removal user num: {len(temp_df[outlier_filter].index)}\")\n",
    "print(f\"After outlier removal rating num: {len(ratings.index)}\")\n",
    "print(f\"After outlier removal rated anime num:\\\n",
    "    {len(ratings.anime_id.value_counts().index)}\")\n",
    "del temp_df\n",
    "del outlier_filter\n",
    "del IQR\n",
    "del u_bound\n",
    "del l_bound"
   ]
  },
  {
   "cell_type": "code",
   "execution_count": 32,
   "metadata": {},
   "outputs": [
    {
     "data": {
      "image/png": "[encoded data removed]",
      "text/plain": [
       "<Figure size 432x288 with 1 Axes>"
      ]
     },
     "metadata": {},
     "output_type": "display_data"
    }
   ],
   "source": [
    "plt.boxplot(ratings.user_id.value_counts())\n",
    "plt.show()\n",
    "# better"
   ]
  },
  {
   "cell_type": "markdown",
   "metadata": {},
   "source": [
    "But there are still users with one or really less number of ratings. They will not provide us any (or very very little) information."
   ]
  },
  {
   "cell_type": "markdown",
   "metadata": {},
   "source": [
    "#### Selecting ratings"
   ]
  },
  {
   "cell_type": "code",
   "execution_count": 33,
   "metadata": {},
   "outputs": [
    {
     "data": {
      "image/png": "[encoded data removed]",
      "text/plain": [
       "<Figure size 432x288 with 1 Axes>"
      ]
     },
     "metadata": {},
     "output_type": "display_data"
    },
    {
     "data": {
      "text/plain": [
       "count    289535.000000\n",
       "mean        136.957142\n",
       "std         123.338623\n",
       "min           1.000000\n",
       "25%          38.000000\n",
       "50%         101.000000\n",
       "75%         203.000000\n",
       "max         527.000000\n",
       "Name: user_id, dtype: float64"
      ]
     },
     "execution_count": 33,
     "metadata": {},
     "output_type": "execute_result"
    }
   ],
   "source": [
    "plt.hist(ratings['user_id'].value_counts(),bins=50)\n",
    "plt.xticks(np.arange(0,600,30), rotation=45)\n",
    "plt.show()\n",
    "ratings['user_id'].value_counts().describe()"
   ]
  },
  {
   "cell_type": "code",
   "execution_count": 34,
   "metadata": {},
   "outputs": [],
   "source": [
    "temp_df = ratings.user_id.value_counts()\n",
    "temp_rating_filter = temp_df > 39\n",
    "ratings = ratings[ratings['user_id'].isin((temp_df[temp_rating_filter]).index)]\n",
    "del temp_rating_filter, temp_df"
   ]
  },
  {
   "cell_type": "code",
   "execution_count": 35,
   "metadata": {},
   "outputs": [
    {
     "data": {
      "image/png": "[encoded data removed]",
      "text/plain": [
       "<Figure size 432x288 with 1 Axes>"
      ]
     },
     "metadata": {},
     "output_type": "display_data"
    },
    {
     "data": {
      "text/plain": [
       "count    215772.000000\n",
       "mean        178.204962\n",
       "std         116.990818\n",
       "min          40.000000\n",
       "25%          84.000000\n",
       "50%         145.000000\n",
       "75%         244.000000\n",
       "max         527.000000\n",
       "Name: user_id, dtype: float64"
      ]
     },
     "execution_count": 35,
     "metadata": {},
     "output_type": "execute_result"
    }
   ],
   "source": [
    "plt.hist(ratings['user_id'].value_counts(),bins=50)\n",
    "plt.xticks(np.arange(0,600,30), rotation=45)\n",
    "plt.show()\n",
    "ratings['user_id'].value_counts().describe()"
   ]
  },
  {
   "cell_type": "markdown",
   "metadata": {},
   "source": [
    "#### Selecting ratings again: this time for animes that are rated really few times"
   ]
  },
  {
   "cell_type": "code",
   "execution_count": 36,
   "metadata": {},
   "outputs": [
    {
     "data": {
      "text/plain": [
       "count     13503.000000\n",
       "mean       2847.636896\n",
       "std        8844.221792\n",
       "min           1.000000\n",
       "25%          10.000000\n",
       "50%         135.000000\n",
       "75%        1381.000000\n",
       "max      145196.000000\n",
       "Name: anime_id, dtype: float64"
      ]
     },
     "execution_count": 36,
     "metadata": {},
     "output_type": "execute_result"
    }
   ],
   "source": [
    "ratings['anime_id'].value_counts().describe()"
   ]
  },
  {
   "cell_type": "code",
   "execution_count": 37,
   "metadata": {},
   "outputs": [
    {
     "name": "stdout",
     "output_type": "stream",
     "text": [
      "Before non populer anime removal user num: 215772\n",
      "Before non populer anime removal rating num: 38451641\n",
      "Before non populer anime removal rated anime num: 13503\n",
      "\n",
      "\n",
      "After non populer anime removal user num: 9437\n",
      "After non populer anime removal rating num: 38429723\n",
      "After non populer anime removal rated anime num: 9437\n"
     ]
    }
   ],
   "source": [
    "print(f\"Before non populer anime removal user num: {len(ratings.user_id.value_counts().index)}\")\n",
    "print(f\"Before non populer anime removal rating num: {len(ratings.index)}\")\n",
    "print(f\"Before non populer anime removal rated anime num: {len(ratings.anime_id.value_counts().index)}\")\n",
    "\n",
    "temp_df = ratings['anime_id'].value_counts()\n",
    "anime_filter = temp_df.quantile(0.2, interpolation='nearest')\n",
    "temp_df = temp_df[temp_df > int(anime_filter)]\n",
    "ratings = ratings[ratings['anime_id'].isin(temp_df.index)]\n",
    "\n",
    "print(\"\\n\")\n",
    "print(f\"After non populer anime removal user num: {len(temp_df.index)}\")\n",
    "print(f\"After non populer anime removal rating num: {len(ratings.index)}\")\n",
    "print(f\"After non populer anime removal rated anime num: {len(temp_df.index)}\")\n",
    "del temp_df, anime_filter\n"
   ]
  },
  {
   "cell_type": "markdown",
   "metadata": {},
   "source": [
    "#### Normalizing Ratings"
   ]
  },
  {
   "cell_type": "code",
   "execution_count": 38,
   "metadata": {},
   "outputs": [],
   "source": [
    "scaler = preprocessing.MinMaxScaler()\n",
    "ratings['rating'] = scaler.fit_transform(np.array(ratings['rating']).reshape(-1,1))\n",
    "del scaler"
   ]
  },
  {
   "cell_type": "markdown",
   "metadata": {},
   "source": [
    "### <b>2.c Anime: Selecting Animes (Filter Out Really Unpopuler or Unloved Ones)</b>"
   ]
  },
  {
   "cell_type": "markdown",
   "metadata": {},
   "source": [
    "#### Removing animes that are not rated (not in the ratings df) "
   ]
  },
  {
   "cell_type": "code",
   "execution_count": 39,
   "metadata": {},
   "outputs": [
    {
     "name": "stdout",
     "output_type": "stream",
     "text": [
      "Before filtering by ratings: 16217\n",
      "After filtering by ratings: 9437\n"
     ]
    }
   ],
   "source": [
    "# we have anime info in 'animes' dataframe (readed csv in previous steps)\n",
    "print(f\"Before filtering by ratings, anime num in anime info df: {len(animes.index)}\")\n",
    "animes = animes[animes['anime_id'].isin(set(ratings.anime_id))]\n",
    "print(f\"After filtering by ratings, anime num in anime info df: {len(animes.index)}\")"
   ]
  },
  {
   "cell_type": "markdown",
   "metadata": {},
   "source": [
    "#### Feature Engineering\n",
    "Trying to get two measures: How relevant anime is and how loved is it."
   ]
  },
  {
   "cell_type": "code",
   "execution_count": 40,
   "metadata": {},
   "outputs": [],
   "source": [
    "## These two features will be used in relevancy\n",
    "\n",
    "w = preprocessing.normalize([np.array(animes['watching'])])\n",
    "p = preprocessing.normalize([np.array(animes['plan_to_watch'])])\n",
    "o = preprocessing.normalize([np.array(animes['on_hold'])])\n",
    "c = preprocessing.normalize([np.array(animes['completed'])])\n",
    "d = preprocessing.normalize([np.array(animes['dropped'])]) # user changed mind and didn't watch: negative\n",
    "\n",
    "s = preprocessing.normalize([np.array(animes['score'].fillna(0))])\n",
    "pp = preprocessing.normalize([1 / np.array(animes['popularity'].fillna(0))])\n",
    "m = preprocessing.normalize([np.array(animes['members'].fillna(0))])\n",
    "f = preprocessing.normalize([np.array(animes['favorites'].fillna(0))])\n",
    "h = preprocessing.normalize([np.array(animes[['score_3', 'score_2', 'score_1']].sum(axis=1))]) # gave really low score: negative\n",
    "\n",
    "# How many users rated that anime: rate count\n",
    "rc = preprocessing.normalize([np.array(animes.loc[:,\"score_10\":\"score_1\"].sum(axis=1))])\n",
    "# How many users watched this anime (currently watching, counts more in relevancy): view rate \n",
    "vr = w[0] + 0.8*p[0] + 0.6*o[0] + 0.4*c[0] + 0.4*d[0]\n",
    "vr = preprocessing.normalize([vr])\n",
    "relevancy_score = vr[0] + rc[0]\n",
    "relevancy_score = preprocessing.normalize([relevancy_score])\n",
    "animes['relevancy_score'] = relevancy_score[0]\n",
    "\n",
    "\n",
    "## This features will be used in love_score\n",
    "love_score = f[0] + 0.8*pp[0] + 0.6*m[0] + 0.4*s[0] - 0.4*d[0] - 0.8*h[0]\n",
    "love_score = preprocessing.normalize([love_score])\n",
    "animes['love_score'] = love_score[0]\n",
    "\n",
    "# dropping other unnecessary columns\n",
    "del c,w,p,o,d,s,pp,m,f,h,rc,vr,relevancy_score,love_score\n",
    "animes.drop(columns=['ranked'],inplace=True) # this is already an index based on score, corr=-1 nearly\n",
    "animes.drop(columns=['watching', 'completed', 'on_hold', 'dropped', 'plan_to_watch'],inplace=True)\n",
    "animes.drop(columns=['score_10', 'score_9', 'score_8', 'score_7', 'score_6',\n",
    "       'score_5', 'score_4', 'score_3', 'score_2', 'score_1'],inplace=True)\n",
    "animes.drop(columns=['score', 'popularity', 'members', 'favorites'],inplace=True)"
   ]
  },
  {
   "cell_type": "code",
   "execution_count": 41,
   "metadata": {},
   "outputs": [
    {
     "data": {
      "image/png": "[encoded data removed]",
      "text/plain": [
       "<Figure size 432x288 with 2 Axes>"
      ]
     },
     "metadata": {},
     "output_type": "display_data"
    }
   ],
   "source": [
    "sns.heatmap(animes.corr())\n",
    "plt.xticks(rotation=45)\n",
    "plt.show()"
   ]
  },
  {
   "cell_type": "code",
   "execution_count": 42,
   "metadata": {},
   "outputs": [
    {
     "data": {
      "text/html": [
       "<div>\n",
       "<style scoped>\n",
       "    .dataframe tbody tr th:only-of-type {\n",
       "        vertical-align: middle;\n",
       "    }\n",
       "\n",
       "    .dataframe tbody tr th {\n",
       "        vertical-align: top;\n",
       "    }\n",
       "\n",
       "    .dataframe thead th {\n",
       "        text-align: right;\n",
       "    }\n",
       "</style>\n",
       "<table border=\"1\" class=\"dataframe\">\n",
       "  <thead>\n",
       "    <tr style=\"text-align: right;\">\n",
       "      <th></th>\n",
       "      <th>anime_id</th>\n",
       "      <th>episodes</th>\n",
       "      <th>relevancy_score</th>\n",
       "      <th>love_score</th>\n",
       "    </tr>\n",
       "  </thead>\n",
       "  <tbody>\n",
       "    <tr>\n",
       "      <th>anime_id</th>\n",
       "      <td>1.000000</td>\n",
       "      <td>-0.094321</td>\n",
       "      <td>0.058557</td>\n",
       "      <td>-0.036316</td>\n",
       "    </tr>\n",
       "    <tr>\n",
       "      <th>episodes</th>\n",
       "      <td>-0.094321</td>\n",
       "      <td>1.000000</td>\n",
       "      <td>0.106549</td>\n",
       "      <td>0.037110</td>\n",
       "    </tr>\n",
       "    <tr>\n",
       "      <th>relevancy_score</th>\n",
       "      <td>0.058557</td>\n",
       "      <td>0.106549</td>\n",
       "      <td>1.000000</td>\n",
       "      <td>0.502001</td>\n",
       "    </tr>\n",
       "    <tr>\n",
       "      <th>love_score</th>\n",
       "      <td>-0.036316</td>\n",
       "      <td>0.037110</td>\n",
       "      <td>0.502001</td>\n",
       "      <td>1.000000</td>\n",
       "    </tr>\n",
       "  </tbody>\n",
       "</table>\n",
       "</div>"
      ],
      "text/plain": [
       "                 anime_id  episodes  relevancy_score  love_score\n",
       "anime_id         1.000000 -0.094321         0.058557   -0.036316\n",
       "episodes        -0.094321  1.000000         0.106549    0.037110\n",
       "relevancy_score  0.058557  0.106549         1.000000    0.502001\n",
       "love_score      -0.036316  0.037110         0.502001    1.000000"
      ]
     },
     "execution_count": 42,
     "metadata": {},
     "output_type": "execute_result"
    }
   ],
   "source": [
    "animes.corr()\n",
    "# Not that bad for relevancy and love score correlation, we should've already expected\n",
    "# that these two scores would be correlated a bit. High correlation would make our \n",
    "# 'good animes to consider' filter too wide low correlation would make the opposite\n",
    "# I belive where these two metrics are currently is good"
   ]
  },
  {
   "cell_type": "markdown",
   "metadata": {},
   "source": [
    "<b>Filtering Animes</b>"
   ]
  },
  {
   "cell_type": "code",
   "execution_count": 43,
   "metadata": {},
   "outputs": [
    {
     "name": "stdout",
     "output_type": "stream",
     "text": [
      "Before the filter, the number of anime is:  9437\n",
      "After the filter, the number of anime is:  5871\n"
     ]
    }
   ],
   "source": [
    "filt_1 = animes['love_score']>animes['love_score'].quantile(0.10) # filter based on love score\n",
    "filt_2 = animes['relevancy_score']>animes['relevancy_score'].quantile(0.10) # filter based on relevancy score (how alive it is)\n",
    "print(\"Before the filter, the number of anime is: \",len(animes))\n",
    "animes = animes[filt_1 & filt_2]\n",
    "print(\"After the filter, the number of anime is: \",len(animes))\n",
    "del filt_1, filt_2"
   ]
  },
  {
   "cell_type": "markdown",
   "metadata": {},
   "source": [
    "### <b>2.d Creating User-Item Matrix</b>"
   ]
  },
  {
   "cell_type": "code",
   "execution_count": 44,
   "metadata": {},
   "outputs": [],
   "source": [
    "# only consider ratings that are in animes dataframe (for collaborative and content based filter consistency)\n",
    "ratings = ratings[ratings.anime_id.isin(animes.anime_id)]\n",
    "\n",
    "x = len(ratings.groupby('user_id'))\n",
    "y = len(ratings.groupby('anime_id'))\n",
    "\n",
    "user_id_decoding = {i:x for i,x in enumerate(ratings['user_id'].unique())}\n",
    "user_id_encoding = {x:i for i,x in enumerate(ratings['user_id'].unique())}\n",
    "\n",
    "anime_id_decoding = {i:x for i,x in enumerate(ratings['anime_id'].unique())}\n",
    "anime_id_encoding = {x:i for i,x in enumerate(ratings['anime_id'].unique())}\n",
    "ratings.user_id = ratings.user_id.map(user_id_encoding)\n",
    "ratings.anime_id = ratings.anime_id.map(anime_id_encoding)\n",
    "ratings = np.array(ratings)\n"
   ]
  },
  {
   "cell_type": "code",
   "execution_count": 45,
   "metadata": {},
   "outputs": [],
   "source": [
    "# This step takes a bit long even with threading (approx 3-5 minutes)\n",
    "import concurrent.futures\n",
    "user_item_matrix = np.zeros((x, y)) # init empty matrix\n",
    "\n",
    "def create_user_item_matrix(anime):\n",
    "    global user_item_matrix\n",
    "    users = np.arange(0,x) # represents users (since ids are mapped to 0-x)\n",
    "    anime_rating_v = ratings[ratings[:,1] == anime] # ratings vector that include that particular anime id (given in the func param)\n",
    "    # assign users (which gave that rating) rating in the matrix to that rating \n",
    "    user_item_matrix[np.isin(users, anime_rating_v[:,0]), anime] = anime_rating_v[:,2] \n",
    "\n",
    "with concurrent.futures.ThreadPoolExecutor() as executer:\n",
    "    for anime in np.unique(ratings[:,1]).astype(int): # For unique anime ids in the ratings df\n",
    "        executer.submit(create_user_item_matrix, anime) # submit that execution of func with the param\n",
    "\n",
    "np.save(\"data_cleansed/user_item_matrix.npy\",user_item_matrix)\n",
    "# IMPORTANT: we are getting rid of 'ratings' since we now have user-item matrix\n",
    "# we also removed user-item matrix as we've saved it into our hard disc\n",
    "del anime, executer, ratings, x, y, user_item_matrix"
   ]
  },
  {
   "cell_type": "markdown",
   "metadata": {},
   "source": [
    "### Creating Labels for Anime Genres"
   ]
  },
  {
   "cell_type": "code",
   "execution_count": null,
   "metadata": {},
   "outputs": [],
   "source": []
  },
  {
   "cell_type": "markdown",
   "metadata": {},
   "source": [
    "## <b> Model Building </b>"
   ]
  },
  {
   "cell_type": "markdown",
   "metadata": {},
   "source": []
  },
  {
   "cell_type": "code",
   "execution_count": null,
   "metadata": {},
   "outputs": [],
   "source": []
  }
 ],
 "metadata": {
  "kernelspec": {
   "display_name": "Python 3 (ipykernel)",
   "language": "python",
   "name": "python3"
  },
  "language_info": {
   "codemirror_mode": {
    "name": "ipython",
    "version": 3
   },
   "file_extension": ".py",
   "mimetype": "text/x-python",
   "name": "python",
   "nbconvert_exporter": "python",
   "pygments_lexer": "ipython3",
   "version": "3.10.0"
  },
  "vscode": {
   "interpreter": {
    "hash": "962108172c7d37cc7f406e874d70700554b701f9d4fddde2ee9c82cee43c72c9"
   }
  }
 },
 "nbformat": 4,
 "nbformat_minor": 2
}
